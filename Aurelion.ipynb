{
  "nbformat": 4,
  "nbformat_minor": 0,
  "metadata": {
    "colab": {
      "provenance": [],
      "authorship_tag": "ABX9TyM/Qsgzrabk0uo9+QN609pn",
      "include_colab_link": true
    },
    "kernelspec": {
      "name": "python3",
      "display_name": "Python 3"
    },
    "language_info": {
      "name": "python"
    }
  },
  "cells": [
    {
      "cell_type": "markdown",
      "metadata": {
        "id": "view-in-github",
        "colab_type": "text"
      },
      "source": [
        "<a href=\"https://colab.research.google.com/github/dePolanball/DataScExercises/blob/main/Aurelion.ipynb\" target=\"_parent\"><img src=\"https://colab.research.google.com/assets/colab-badge.svg\" alt=\"Open In Colab\"/></a>"
      ]
    },
    {
      "cell_type": "markdown",
      "source": [
        "###AND GATE"
      ],
      "metadata": {
        "id": "Bwox3HAlvybY"
      }
    },
    {
      "cell_type": "markdown",
      "source": [
        "## Libraries"
      ],
      "metadata": {
        "id": "QpL87HlnsAwQ"
      }
    },
    {
      "cell_type": "code",
      "execution_count": null,
      "metadata": {
        "id": "2A26v3_SoQFB"
      },
      "outputs": [],
      "source": [
        "from sklearn.linear_model import Perceptron\n",
        "import numpy as np\n"
      ]
    },
    {
      "cell_type": "markdown",
      "source": [
        "##Data prep"
      ],
      "metadata": {
        "id": "_4T2qAuCsKBM"
      }
    },
    {
      "cell_type": "code",
      "source": [
        "X = np.array([[0, 0], [0, 1], [1, 0], [1, 1]])  # Inputs\n",
        "y = np.array([0, 0, 0, 1])                     # Output"
      ],
      "metadata": {
        "id": "IHkox3RLsPAk"
      },
      "execution_count": null,
      "outputs": []
    },
    {
      "cell_type": "markdown",
      "source": [
        "##Perceptron"
      ],
      "metadata": {
        "id": "6v40gm2MsU1W"
      }
    },
    {
      "cell_type": "code",
      "source": [
        "perceptron = Perceptron(tol=1e-3, random_state=0) #tolerance tol is the stop threshold i.e if the model improvement goes down below this, it will stop. random state is similar to seed in GenAI\n",
        "perceptron.fit(X, y) #Passing input and output layer to be mapped in the perceptron"
      ],
      "metadata": {
        "colab": {
          "base_uri": "https://localhost:8080/",
          "height": 74
        },
        "id": "ErP84ac8sX92",
        "outputId": "942ba47c-d95a-43e9-db28-e47f3a1c3db3"
      },
      "execution_count": null,
      "outputs": [
        {
          "output_type": "execute_result",
          "data": {
            "text/plain": [
              "Perceptron()"
            ],
            "text/html": [
              "<style>#sk-container-id-1 {color: black;background-color: white;}#sk-container-id-1 pre{padding: 0;}#sk-container-id-1 div.sk-toggleable {background-color: white;}#sk-container-id-1 label.sk-toggleable__label {cursor: pointer;display: block;width: 100%;margin-bottom: 0;padding: 0.3em;box-sizing: border-box;text-align: center;}#sk-container-id-1 label.sk-toggleable__label-arrow:before {content: \"▸\";float: left;margin-right: 0.25em;color: #696969;}#sk-container-id-1 label.sk-toggleable__label-arrow:hover:before {color: black;}#sk-container-id-1 div.sk-estimator:hover label.sk-toggleable__label-arrow:before {color: black;}#sk-container-id-1 div.sk-toggleable__content {max-height: 0;max-width: 0;overflow: hidden;text-align: left;background-color: #f0f8ff;}#sk-container-id-1 div.sk-toggleable__content pre {margin: 0.2em;color: black;border-radius: 0.25em;background-color: #f0f8ff;}#sk-container-id-1 input.sk-toggleable__control:checked~div.sk-toggleable__content {max-height: 200px;max-width: 100%;overflow: auto;}#sk-container-id-1 input.sk-toggleable__control:checked~label.sk-toggleable__label-arrow:before {content: \"▾\";}#sk-container-id-1 div.sk-estimator input.sk-toggleable__control:checked~label.sk-toggleable__label {background-color: #d4ebff;}#sk-container-id-1 div.sk-label input.sk-toggleable__control:checked~label.sk-toggleable__label {background-color: #d4ebff;}#sk-container-id-1 input.sk-hidden--visually {border: 0;clip: rect(1px 1px 1px 1px);clip: rect(1px, 1px, 1px, 1px);height: 1px;margin: -1px;overflow: hidden;padding: 0;position: absolute;width: 1px;}#sk-container-id-1 div.sk-estimator {font-family: monospace;background-color: #f0f8ff;border: 1px dotted black;border-radius: 0.25em;box-sizing: border-box;margin-bottom: 0.5em;}#sk-container-id-1 div.sk-estimator:hover {background-color: #d4ebff;}#sk-container-id-1 div.sk-parallel-item::after {content: \"\";width: 100%;border-bottom: 1px solid gray;flex-grow: 1;}#sk-container-id-1 div.sk-label:hover label.sk-toggleable__label {background-color: #d4ebff;}#sk-container-id-1 div.sk-serial::before {content: \"\";position: absolute;border-left: 1px solid gray;box-sizing: border-box;top: 0;bottom: 0;left: 50%;z-index: 0;}#sk-container-id-1 div.sk-serial {display: flex;flex-direction: column;align-items: center;background-color: white;padding-right: 0.2em;padding-left: 0.2em;position: relative;}#sk-container-id-1 div.sk-item {position: relative;z-index: 1;}#sk-container-id-1 div.sk-parallel {display: flex;align-items: stretch;justify-content: center;background-color: white;position: relative;}#sk-container-id-1 div.sk-item::before, #sk-container-id-1 div.sk-parallel-item::before {content: \"\";position: absolute;border-left: 1px solid gray;box-sizing: border-box;top: 0;bottom: 0;left: 50%;z-index: -1;}#sk-container-id-1 div.sk-parallel-item {display: flex;flex-direction: column;z-index: 1;position: relative;background-color: white;}#sk-container-id-1 div.sk-parallel-item:first-child::after {align-self: flex-end;width: 50%;}#sk-container-id-1 div.sk-parallel-item:last-child::after {align-self: flex-start;width: 50%;}#sk-container-id-1 div.sk-parallel-item:only-child::after {width: 0;}#sk-container-id-1 div.sk-dashed-wrapped {border: 1px dashed gray;margin: 0 0.4em 0.5em 0.4em;box-sizing: border-box;padding-bottom: 0.4em;background-color: white;}#sk-container-id-1 div.sk-label label {font-family: monospace;font-weight: bold;display: inline-block;line-height: 1.2em;}#sk-container-id-1 div.sk-label-container {text-align: center;}#sk-container-id-1 div.sk-container {/* jupyter's `normalize.less` sets `[hidden] { display: none; }` but bootstrap.min.css set `[hidden] { display: none !important; }` so we also need the `!important` here to be able to override the default hidden behavior on the sphinx rendered scikit-learn.org. See: https://github.com/scikit-learn/scikit-learn/issues/21755 */display: inline-block !important;position: relative;}#sk-container-id-1 div.sk-text-repr-fallback {display: none;}</style><div id=\"sk-container-id-1\" class=\"sk-top-container\"><div class=\"sk-text-repr-fallback\"><pre>Perceptron()</pre><b>In a Jupyter environment, please rerun this cell to show the HTML representation or trust the notebook. <br />On GitHub, the HTML representation is unable to render, please try loading this page with nbviewer.org.</b></div><div class=\"sk-container\" hidden><div class=\"sk-item\"><div class=\"sk-estimator sk-toggleable\"><input class=\"sk-toggleable__control sk-hidden--visually\" id=\"sk-estimator-id-1\" type=\"checkbox\" checked><label for=\"sk-estimator-id-1\" class=\"sk-toggleable__label sk-toggleable__label-arrow\">Perceptron</label><div class=\"sk-toggleable__content\"><pre>Perceptron()</pre></div></div></div></div></div>"
            ]
          },
          "metadata": {},
          "execution_count": 3
        }
      ]
    },
    {
      "cell_type": "code",
      "source": [],
      "metadata": {
        "id": "2eWMV99L0mVM"
      },
      "execution_count": null,
      "outputs": []
    },
    {
      "cell_type": "markdown",
      "source": [],
      "metadata": {
        "id": "O7cX_onPufSL"
      }
    },
    {
      "cell_type": "markdown",
      "source": [
        "## Predictive bit"
      ],
      "metadata": {
        "id": "wekyJBqJtUTY"
      }
    },
    {
      "cell_type": "code",
      "source": [
        "preds = perceptron.predict(X)"
      ],
      "metadata": {
        "id": "elCrZS8ntXJq"
      },
      "execution_count": null,
      "outputs": []
    },
    {
      "cell_type": "markdown",
      "source": [
        "##Results"
      ],
      "metadata": {
        "id": "gwhrqOKoxPMo"
      }
    },
    {
      "cell_type": "code",
      "source": [
        "print(\"Inputs: \\n\", X)\n",
        "print(\"Expected Outputs: \", y)\n",
        "print(\"Predicted Outputs: \", preds)"
      ],
      "metadata": {
        "colab": {
          "base_uri": "https://localhost:8080/"
        },
        "id": "qZekR9OLxOPY",
        "outputId": "61481cc4-cd1f-4495-c75d-5dc22ebed7cc"
      },
      "execution_count": null,
      "outputs": [
        {
          "output_type": "stream",
          "name": "stdout",
          "text": [
            "Inputs: \n",
            " [0 0 0 1 1 0 1 1]\n",
            "Expected Outputs:  [0 0 0 1]\n",
            "Predicted Outputs:  [0 0 0 1]\n"
          ]
        }
      ]
    },
    {
      "cell_type": "markdown",
      "source": [
        "#NOT Gate"
      ],
      "metadata": {
        "id": "l3kIaW6jscZ9"
      }
    },
    {
      "cell_type": "markdown",
      "source": [
        "Not writing the comments because they stay the same"
      ],
      "metadata": {
        "id": "pxwgA_5Px-xV"
      }
    },
    {
      "cell_type": "code",
      "source": [
        "X = np.array([[0], [1]])  # Inputs\n",
        "y = np.array([1,0])                     # Output"
      ],
      "metadata": {
        "id": "r3d9yrexx4Uw"
      },
      "execution_count": null,
      "outputs": []
    },
    {
      "cell_type": "code",
      "source": [
        "perceptron = Perceptron(tol=1e-3, random_state=0) #tolerance tol is the stop threshold i.e if the model improvement goes down below this, it will stop. random state is similar to seed in GenAI\n",
        "perceptron.fit(X, y) #Passing input and output layer to be mapped in the perceptron"
      ],
      "metadata": {
        "colab": {
          "base_uri": "https://localhost:8080/",
          "height": 74
        },
        "id": "1LEURg0cyX4b",
        "outputId": "3ef15e78-22d1-403c-daab-cab1386336ca"
      },
      "execution_count": null,
      "outputs": [
        {
          "output_type": "execute_result",
          "data": {
            "text/plain": [
              "Perceptron()"
            ],
            "text/html": [
              "<style>#sk-container-id-2 {color: black;background-color: white;}#sk-container-id-2 pre{padding: 0;}#sk-container-id-2 div.sk-toggleable {background-color: white;}#sk-container-id-2 label.sk-toggleable__label {cursor: pointer;display: block;width: 100%;margin-bottom: 0;padding: 0.3em;box-sizing: border-box;text-align: center;}#sk-container-id-2 label.sk-toggleable__label-arrow:before {content: \"▸\";float: left;margin-right: 0.25em;color: #696969;}#sk-container-id-2 label.sk-toggleable__label-arrow:hover:before {color: black;}#sk-container-id-2 div.sk-estimator:hover label.sk-toggleable__label-arrow:before {color: black;}#sk-container-id-2 div.sk-toggleable__content {max-height: 0;max-width: 0;overflow: hidden;text-align: left;background-color: #f0f8ff;}#sk-container-id-2 div.sk-toggleable__content pre {margin: 0.2em;color: black;border-radius: 0.25em;background-color: #f0f8ff;}#sk-container-id-2 input.sk-toggleable__control:checked~div.sk-toggleable__content {max-height: 200px;max-width: 100%;overflow: auto;}#sk-container-id-2 input.sk-toggleable__control:checked~label.sk-toggleable__label-arrow:before {content: \"▾\";}#sk-container-id-2 div.sk-estimator input.sk-toggleable__control:checked~label.sk-toggleable__label {background-color: #d4ebff;}#sk-container-id-2 div.sk-label input.sk-toggleable__control:checked~label.sk-toggleable__label {background-color: #d4ebff;}#sk-container-id-2 input.sk-hidden--visually {border: 0;clip: rect(1px 1px 1px 1px);clip: rect(1px, 1px, 1px, 1px);height: 1px;margin: -1px;overflow: hidden;padding: 0;position: absolute;width: 1px;}#sk-container-id-2 div.sk-estimator {font-family: monospace;background-color: #f0f8ff;border: 1px dotted black;border-radius: 0.25em;box-sizing: border-box;margin-bottom: 0.5em;}#sk-container-id-2 div.sk-estimator:hover {background-color: #d4ebff;}#sk-container-id-2 div.sk-parallel-item::after {content: \"\";width: 100%;border-bottom: 1px solid gray;flex-grow: 1;}#sk-container-id-2 div.sk-label:hover label.sk-toggleable__label {background-color: #d4ebff;}#sk-container-id-2 div.sk-serial::before {content: \"\";position: absolute;border-left: 1px solid gray;box-sizing: border-box;top: 0;bottom: 0;left: 50%;z-index: 0;}#sk-container-id-2 div.sk-serial {display: flex;flex-direction: column;align-items: center;background-color: white;padding-right: 0.2em;padding-left: 0.2em;position: relative;}#sk-container-id-2 div.sk-item {position: relative;z-index: 1;}#sk-container-id-2 div.sk-parallel {display: flex;align-items: stretch;justify-content: center;background-color: white;position: relative;}#sk-container-id-2 div.sk-item::before, #sk-container-id-2 div.sk-parallel-item::before {content: \"\";position: absolute;border-left: 1px solid gray;box-sizing: border-box;top: 0;bottom: 0;left: 50%;z-index: -1;}#sk-container-id-2 div.sk-parallel-item {display: flex;flex-direction: column;z-index: 1;position: relative;background-color: white;}#sk-container-id-2 div.sk-parallel-item:first-child::after {align-self: flex-end;width: 50%;}#sk-container-id-2 div.sk-parallel-item:last-child::after {align-self: flex-start;width: 50%;}#sk-container-id-2 div.sk-parallel-item:only-child::after {width: 0;}#sk-container-id-2 div.sk-dashed-wrapped {border: 1px dashed gray;margin: 0 0.4em 0.5em 0.4em;box-sizing: border-box;padding-bottom: 0.4em;background-color: white;}#sk-container-id-2 div.sk-label label {font-family: monospace;font-weight: bold;display: inline-block;line-height: 1.2em;}#sk-container-id-2 div.sk-label-container {text-align: center;}#sk-container-id-2 div.sk-container {/* jupyter's `normalize.less` sets `[hidden] { display: none; }` but bootstrap.min.css set `[hidden] { display: none !important; }` so we also need the `!important` here to be able to override the default hidden behavior on the sphinx rendered scikit-learn.org. See: https://github.com/scikit-learn/scikit-learn/issues/21755 */display: inline-block !important;position: relative;}#sk-container-id-2 div.sk-text-repr-fallback {display: none;}</style><div id=\"sk-container-id-2\" class=\"sk-top-container\"><div class=\"sk-text-repr-fallback\"><pre>Perceptron()</pre><b>In a Jupyter environment, please rerun this cell to show the HTML representation or trust the notebook. <br />On GitHub, the HTML representation is unable to render, please try loading this page with nbviewer.org.</b></div><div class=\"sk-container\" hidden><div class=\"sk-item\"><div class=\"sk-estimator sk-toggleable\"><input class=\"sk-toggleable__control sk-hidden--visually\" id=\"sk-estimator-id-2\" type=\"checkbox\" checked><label for=\"sk-estimator-id-2\" class=\"sk-toggleable__label sk-toggleable__label-arrow\">Perceptron</label><div class=\"sk-toggleable__content\"><pre>Perceptron()</pre></div></div></div></div></div>"
            ]
          },
          "metadata": {},
          "execution_count": 11
        }
      ]
    },
    {
      "cell_type": "code",
      "source": [
        "preds = perceptron.predict(X)"
      ],
      "metadata": {
        "id": "YN6kyKBKydES"
      },
      "execution_count": null,
      "outputs": []
    },
    {
      "cell_type": "code",
      "source": [
        "print(\"Inputs: \\n\", X)\n",
        "print(\"Expected Outputs: \", y)\n",
        "print(\"Predicted Outputs: \", preds)"
      ],
      "metadata": {
        "colab": {
          "base_uri": "https://localhost:8080/"
        },
        "id": "sMjeBIRlykIJ",
        "outputId": "482038b7-48a8-43d8-b831-0453b9048371"
      },
      "execution_count": null,
      "outputs": [
        {
          "output_type": "stream",
          "name": "stdout",
          "text": [
            "Inputs: \n",
            " [[0]\n",
            " [1]]\n",
            "Expected Outputs:  [1 0]\n",
            "Predicted Outputs:  [1 0]\n"
          ]
        }
      ]
    },
    {
      "cell_type": "markdown",
      "source": [
        "Trying out flatten"
      ],
      "metadata": {
        "id": "WD8xDDe6zbb9"
      }
    },
    {
      "cell_type": "code",
      "source": [
        "print(\"Inputs: \\n\", X.flatten())\n",
        "print(\"Expected Outputs: \", y)\n",
        "print(\"Predicted Outputs: \", preds)"
      ],
      "metadata": {
        "colab": {
          "base_uri": "https://localhost:8080/"
        },
        "id": "qp42JlAjzeiS",
        "outputId": "8d0e124c-0cdf-414c-950b-7f2dec5047fb"
      },
      "execution_count": null,
      "outputs": [
        {
          "output_type": "stream",
          "name": "stdout",
          "text": [
            "Inputs: \n",
            " [0 1]\n",
            "Expected Outputs:  [1 0]\n",
            "Predicted Outputs:  [1 0]\n"
          ]
        }
      ]
    },
    {
      "cell_type": "markdown",
      "source": [
        "#OR GATE"
      ],
      "metadata": {
        "id": "PQAoy8aizpgM"
      }
    },
    {
      "cell_type": "code",
      "source": [
        "X = np.array([[0, 0], [0, 1], [1, 0], [1, 1]])  # Inputs\n",
        "y = np.array([0, 1, 1, 1])                     # Output"
      ],
      "metadata": {
        "id": "JAXVhLxyzo-q"
      },
      "execution_count": null,
      "outputs": []
    },
    {
      "cell_type": "code",
      "source": [
        "perceptron = Perceptron(tol=1e-3, random_state=0) #tolerance tol is the stop threshold i.e if the model improvement goes down below this, it will stop. random state is similar to seed in GenAI\n",
        "perceptron.fit(X, y) #Passing input and output layer to be mapped in the perceptron"
      ],
      "metadata": {
        "colab": {
          "base_uri": "https://localhost:8080/",
          "height": 74
        },
        "id": "U4UpSJcn0HSF",
        "outputId": "5d752736-32a4-443d-e7df-6b08a77a1f79"
      },
      "execution_count": null,
      "outputs": [
        {
          "output_type": "execute_result",
          "data": {
            "text/plain": [
              "Perceptron()"
            ],
            "text/html": [
              "<style>#sk-container-id-2 {color: black;background-color: white;}#sk-container-id-2 pre{padding: 0;}#sk-container-id-2 div.sk-toggleable {background-color: white;}#sk-container-id-2 label.sk-toggleable__label {cursor: pointer;display: block;width: 100%;margin-bottom: 0;padding: 0.3em;box-sizing: border-box;text-align: center;}#sk-container-id-2 label.sk-toggleable__label-arrow:before {content: \"▸\";float: left;margin-right: 0.25em;color: #696969;}#sk-container-id-2 label.sk-toggleable__label-arrow:hover:before {color: black;}#sk-container-id-2 div.sk-estimator:hover label.sk-toggleable__label-arrow:before {color: black;}#sk-container-id-2 div.sk-toggleable__content {max-height: 0;max-width: 0;overflow: hidden;text-align: left;background-color: #f0f8ff;}#sk-container-id-2 div.sk-toggleable__content pre {margin: 0.2em;color: black;border-radius: 0.25em;background-color: #f0f8ff;}#sk-container-id-2 input.sk-toggleable__control:checked~div.sk-toggleable__content {max-height: 200px;max-width: 100%;overflow: auto;}#sk-container-id-2 input.sk-toggleable__control:checked~label.sk-toggleable__label-arrow:before {content: \"▾\";}#sk-container-id-2 div.sk-estimator input.sk-toggleable__control:checked~label.sk-toggleable__label {background-color: #d4ebff;}#sk-container-id-2 div.sk-label input.sk-toggleable__control:checked~label.sk-toggleable__label {background-color: #d4ebff;}#sk-container-id-2 input.sk-hidden--visually {border: 0;clip: rect(1px 1px 1px 1px);clip: rect(1px, 1px, 1px, 1px);height: 1px;margin: -1px;overflow: hidden;padding: 0;position: absolute;width: 1px;}#sk-container-id-2 div.sk-estimator {font-family: monospace;background-color: #f0f8ff;border: 1px dotted black;border-radius: 0.25em;box-sizing: border-box;margin-bottom: 0.5em;}#sk-container-id-2 div.sk-estimator:hover {background-color: #d4ebff;}#sk-container-id-2 div.sk-parallel-item::after {content: \"\";width: 100%;border-bottom: 1px solid gray;flex-grow: 1;}#sk-container-id-2 div.sk-label:hover label.sk-toggleable__label {background-color: #d4ebff;}#sk-container-id-2 div.sk-serial::before {content: \"\";position: absolute;border-left: 1px solid gray;box-sizing: border-box;top: 0;bottom: 0;left: 50%;z-index: 0;}#sk-container-id-2 div.sk-serial {display: flex;flex-direction: column;align-items: center;background-color: white;padding-right: 0.2em;padding-left: 0.2em;position: relative;}#sk-container-id-2 div.sk-item {position: relative;z-index: 1;}#sk-container-id-2 div.sk-parallel {display: flex;align-items: stretch;justify-content: center;background-color: white;position: relative;}#sk-container-id-2 div.sk-item::before, #sk-container-id-2 div.sk-parallel-item::before {content: \"\";position: absolute;border-left: 1px solid gray;box-sizing: border-box;top: 0;bottom: 0;left: 50%;z-index: -1;}#sk-container-id-2 div.sk-parallel-item {display: flex;flex-direction: column;z-index: 1;position: relative;background-color: white;}#sk-container-id-2 div.sk-parallel-item:first-child::after {align-self: flex-end;width: 50%;}#sk-container-id-2 div.sk-parallel-item:last-child::after {align-self: flex-start;width: 50%;}#sk-container-id-2 div.sk-parallel-item:only-child::after {width: 0;}#sk-container-id-2 div.sk-dashed-wrapped {border: 1px dashed gray;margin: 0 0.4em 0.5em 0.4em;box-sizing: border-box;padding-bottom: 0.4em;background-color: white;}#sk-container-id-2 div.sk-label label {font-family: monospace;font-weight: bold;display: inline-block;line-height: 1.2em;}#sk-container-id-2 div.sk-label-container {text-align: center;}#sk-container-id-2 div.sk-container {/* jupyter's `normalize.less` sets `[hidden] { display: none; }` but bootstrap.min.css set `[hidden] { display: none !important; }` so we also need the `!important` here to be able to override the default hidden behavior on the sphinx rendered scikit-learn.org. See: https://github.com/scikit-learn/scikit-learn/issues/21755 */display: inline-block !important;position: relative;}#sk-container-id-2 div.sk-text-repr-fallback {display: none;}</style><div id=\"sk-container-id-2\" class=\"sk-top-container\"><div class=\"sk-text-repr-fallback\"><pre>Perceptron()</pre><b>In a Jupyter environment, please rerun this cell to show the HTML representation or trust the notebook. <br />On GitHub, the HTML representation is unable to render, please try loading this page with nbviewer.org.</b></div><div class=\"sk-container\" hidden><div class=\"sk-item\"><div class=\"sk-estimator sk-toggleable\"><input class=\"sk-toggleable__control sk-hidden--visually\" id=\"sk-estimator-id-2\" type=\"checkbox\" checked><label for=\"sk-estimator-id-2\" class=\"sk-toggleable__label sk-toggleable__label-arrow\">Perceptron</label><div class=\"sk-toggleable__content\"><pre>Perceptron()</pre></div></div></div></div></div>"
            ]
          },
          "metadata": {},
          "execution_count": 8
        }
      ]
    },
    {
      "cell_type": "code",
      "source": [
        "preds = perceptron.predict(X)"
      ],
      "metadata": {
        "id": "Zra4jvXL0Mxu"
      },
      "execution_count": null,
      "outputs": []
    },
    {
      "cell_type": "code",
      "source": [
        "print(\"Inputs: \\n\", X)\n",
        "print(\"Expected Outputs: \", y)\n",
        "print(\"Predicted Outputs: \", preds)"
      ],
      "metadata": {
        "colab": {
          "base_uri": "https://localhost:8080/"
        },
        "id": "4n7L0MVh0NZM",
        "outputId": "92437b67-886d-4ce6-ab47-e8205abe84e0"
      },
      "execution_count": null,
      "outputs": [
        {
          "output_type": "stream",
          "name": "stdout",
          "text": [
            "Inputs: \n",
            " [[0 0]\n",
            " [0 1]\n",
            " [1 0]\n",
            " [1 1]]\n",
            "Expected Outputs:  [0 1 1 1]\n",
            "Predicted Outputs:  [0 1 1 1]\n"
          ]
        }
      ]
    },
    {
      "cell_type": "markdown",
      "source": [
        "#NOR Gate"
      ],
      "metadata": {
        "id": "BVEu1bfG0VOc"
      }
    },
    {
      "cell_type": "markdown",
      "source": [
        "Just going to add a not gate to an OR gate. Probably better ways to do this exist than this method, but it makes sense to my hardware-y brain"
      ],
      "metadata": {
        "id": "9EYyndvV3xCj"
      }
    },
    {
      "cell_type": "code",
      "source": [
        "ORX = np.array([[0, 0], [0, 1], [1, 0], [1, 1]])  # Inputs\n",
        "ORy = np.array([0, 1, 1, 1])                     # Output"
      ],
      "metadata": {
        "id": "bGTQG1Ow0Uhs"
      },
      "execution_count": null,
      "outputs": []
    },
    {
      "cell_type": "code",
      "source": [
        "perceptron_or = Perceptron(tol=1e-3, random_state=0) #tolerance tol is the stop threshold i.e if the model improvement goes down below this, it will stop. random state is similar to seed in GenAI\n",
        "perceptron_or.fit(ORX, ORy) #Passing input and output layer to be mapped in the perceptron"
      ],
      "metadata": {
        "colab": {
          "base_uri": "https://localhost:8080/",
          "height": 74
        },
        "id": "QuO8OCZf1ixG",
        "outputId": "3be1219e-f33b-4540-94de-76e5ebd18368"
      },
      "execution_count": null,
      "outputs": [
        {
          "output_type": "execute_result",
          "data": {
            "text/plain": [
              "Perceptron()"
            ],
            "text/html": [
              "<style>#sk-container-id-5 {color: black;background-color: white;}#sk-container-id-5 pre{padding: 0;}#sk-container-id-5 div.sk-toggleable {background-color: white;}#sk-container-id-5 label.sk-toggleable__label {cursor: pointer;display: block;width: 100%;margin-bottom: 0;padding: 0.3em;box-sizing: border-box;text-align: center;}#sk-container-id-5 label.sk-toggleable__label-arrow:before {content: \"▸\";float: left;margin-right: 0.25em;color: #696969;}#sk-container-id-5 label.sk-toggleable__label-arrow:hover:before {color: black;}#sk-container-id-5 div.sk-estimator:hover label.sk-toggleable__label-arrow:before {color: black;}#sk-container-id-5 div.sk-toggleable__content {max-height: 0;max-width: 0;overflow: hidden;text-align: left;background-color: #f0f8ff;}#sk-container-id-5 div.sk-toggleable__content pre {margin: 0.2em;color: black;border-radius: 0.25em;background-color: #f0f8ff;}#sk-container-id-5 input.sk-toggleable__control:checked~div.sk-toggleable__content {max-height: 200px;max-width: 100%;overflow: auto;}#sk-container-id-5 input.sk-toggleable__control:checked~label.sk-toggleable__label-arrow:before {content: \"▾\";}#sk-container-id-5 div.sk-estimator input.sk-toggleable__control:checked~label.sk-toggleable__label {background-color: #d4ebff;}#sk-container-id-5 div.sk-label input.sk-toggleable__control:checked~label.sk-toggleable__label {background-color: #d4ebff;}#sk-container-id-5 input.sk-hidden--visually {border: 0;clip: rect(1px 1px 1px 1px);clip: rect(1px, 1px, 1px, 1px);height: 1px;margin: -1px;overflow: hidden;padding: 0;position: absolute;width: 1px;}#sk-container-id-5 div.sk-estimator {font-family: monospace;background-color: #f0f8ff;border: 1px dotted black;border-radius: 0.25em;box-sizing: border-box;margin-bottom: 0.5em;}#sk-container-id-5 div.sk-estimator:hover {background-color: #d4ebff;}#sk-container-id-5 div.sk-parallel-item::after {content: \"\";width: 100%;border-bottom: 1px solid gray;flex-grow: 1;}#sk-container-id-5 div.sk-label:hover label.sk-toggleable__label {background-color: #d4ebff;}#sk-container-id-5 div.sk-serial::before {content: \"\";position: absolute;border-left: 1px solid gray;box-sizing: border-box;top: 0;bottom: 0;left: 50%;z-index: 0;}#sk-container-id-5 div.sk-serial {display: flex;flex-direction: column;align-items: center;background-color: white;padding-right: 0.2em;padding-left: 0.2em;position: relative;}#sk-container-id-5 div.sk-item {position: relative;z-index: 1;}#sk-container-id-5 div.sk-parallel {display: flex;align-items: stretch;justify-content: center;background-color: white;position: relative;}#sk-container-id-5 div.sk-item::before, #sk-container-id-5 div.sk-parallel-item::before {content: \"\";position: absolute;border-left: 1px solid gray;box-sizing: border-box;top: 0;bottom: 0;left: 50%;z-index: -1;}#sk-container-id-5 div.sk-parallel-item {display: flex;flex-direction: column;z-index: 1;position: relative;background-color: white;}#sk-container-id-5 div.sk-parallel-item:first-child::after {align-self: flex-end;width: 50%;}#sk-container-id-5 div.sk-parallel-item:last-child::after {align-self: flex-start;width: 50%;}#sk-container-id-5 div.sk-parallel-item:only-child::after {width: 0;}#sk-container-id-5 div.sk-dashed-wrapped {border: 1px dashed gray;margin: 0 0.4em 0.5em 0.4em;box-sizing: border-box;padding-bottom: 0.4em;background-color: white;}#sk-container-id-5 div.sk-label label {font-family: monospace;font-weight: bold;display: inline-block;line-height: 1.2em;}#sk-container-id-5 div.sk-label-container {text-align: center;}#sk-container-id-5 div.sk-container {/* jupyter's `normalize.less` sets `[hidden] { display: none; }` but bootstrap.min.css set `[hidden] { display: none !important; }` so we also need the `!important` here to be able to override the default hidden behavior on the sphinx rendered scikit-learn.org. See: https://github.com/scikit-learn/scikit-learn/issues/21755 */display: inline-block !important;position: relative;}#sk-container-id-5 div.sk-text-repr-fallback {display: none;}</style><div id=\"sk-container-id-5\" class=\"sk-top-container\"><div class=\"sk-text-repr-fallback\"><pre>Perceptron()</pre><b>In a Jupyter environment, please rerun this cell to show the HTML representation or trust the notebook. <br />On GitHub, the HTML representation is unable to render, please try loading this page with nbviewer.org.</b></div><div class=\"sk-container\" hidden><div class=\"sk-item\"><div class=\"sk-estimator sk-toggleable\"><input class=\"sk-toggleable__control sk-hidden--visually\" id=\"sk-estimator-id-5\" type=\"checkbox\" checked><label for=\"sk-estimator-id-5\" class=\"sk-toggleable__label sk-toggleable__label-arrow\">Perceptron</label><div class=\"sk-toggleable__content\"><pre>Perceptron()</pre></div></div></div></div></div>"
            ]
          },
          "metadata": {},
          "execution_count": 20
        }
      ]
    },
    {
      "cell_type": "code",
      "source": [
        "or_preds = perceptron_or.predict(ORX)"
      ],
      "metadata": {
        "id": "4ZZbitPH2882"
      },
      "execution_count": null,
      "outputs": []
    },
    {
      "cell_type": "markdown",
      "source": [
        "Will need to use .reshape() because the NOT function expects a single input. However percerptrons reqiure a 2D Array. The reshape function changes the 1D output into a usable 2D output (I think). .reshape(-1,1). The -1 tells the model to figure out the number of rows to keep the same dimensions and the 1 means there's one column"
      ],
      "metadata": {
        "id": "1AhFvuxM124Q"
      }
    },
    {
      "cell_type": "code",
      "source": [
        "norX = or_preds.reshape(-1,1)"
      ],
      "metadata": {
        "id": "xCtrAjdW21Pu"
      },
      "execution_count": null,
      "outputs": []
    },
    {
      "cell_type": "code",
      "source": [
        "nory = np.array([1, 0, 0, 0])"
      ],
      "metadata": {
        "id": "oXNAq7NQ3WYb"
      },
      "execution_count": null,
      "outputs": []
    },
    {
      "cell_type": "code",
      "source": [
        "perceptron_nor = Perceptron(tol=1e-3, random_state=0)\n",
        "perceptron_nor.fit(norX, nory)"
      ],
      "metadata": {
        "colab": {
          "base_uri": "https://localhost:8080/",
          "height": 74
        },
        "id": "o2wLwqi93fsi",
        "outputId": "d9dad813-31b2-43b6-de40-95e29758057b"
      },
      "execution_count": null,
      "outputs": [
        {
          "output_type": "execute_result",
          "data": {
            "text/plain": [
              "Perceptron()"
            ],
            "text/html": [
              "<style>#sk-container-id-6 {color: black;background-color: white;}#sk-container-id-6 pre{padding: 0;}#sk-container-id-6 div.sk-toggleable {background-color: white;}#sk-container-id-6 label.sk-toggleable__label {cursor: pointer;display: block;width: 100%;margin-bottom: 0;padding: 0.3em;box-sizing: border-box;text-align: center;}#sk-container-id-6 label.sk-toggleable__label-arrow:before {content: \"▸\";float: left;margin-right: 0.25em;color: #696969;}#sk-container-id-6 label.sk-toggleable__label-arrow:hover:before {color: black;}#sk-container-id-6 div.sk-estimator:hover label.sk-toggleable__label-arrow:before {color: black;}#sk-container-id-6 div.sk-toggleable__content {max-height: 0;max-width: 0;overflow: hidden;text-align: left;background-color: #f0f8ff;}#sk-container-id-6 div.sk-toggleable__content pre {margin: 0.2em;color: black;border-radius: 0.25em;background-color: #f0f8ff;}#sk-container-id-6 input.sk-toggleable__control:checked~div.sk-toggleable__content {max-height: 200px;max-width: 100%;overflow: auto;}#sk-container-id-6 input.sk-toggleable__control:checked~label.sk-toggleable__label-arrow:before {content: \"▾\";}#sk-container-id-6 div.sk-estimator input.sk-toggleable__control:checked~label.sk-toggleable__label {background-color: #d4ebff;}#sk-container-id-6 div.sk-label input.sk-toggleable__control:checked~label.sk-toggleable__label {background-color: #d4ebff;}#sk-container-id-6 input.sk-hidden--visually {border: 0;clip: rect(1px 1px 1px 1px);clip: rect(1px, 1px, 1px, 1px);height: 1px;margin: -1px;overflow: hidden;padding: 0;position: absolute;width: 1px;}#sk-container-id-6 div.sk-estimator {font-family: monospace;background-color: #f0f8ff;border: 1px dotted black;border-radius: 0.25em;box-sizing: border-box;margin-bottom: 0.5em;}#sk-container-id-6 div.sk-estimator:hover {background-color: #d4ebff;}#sk-container-id-6 div.sk-parallel-item::after {content: \"\";width: 100%;border-bottom: 1px solid gray;flex-grow: 1;}#sk-container-id-6 div.sk-label:hover label.sk-toggleable__label {background-color: #d4ebff;}#sk-container-id-6 div.sk-serial::before {content: \"\";position: absolute;border-left: 1px solid gray;box-sizing: border-box;top: 0;bottom: 0;left: 50%;z-index: 0;}#sk-container-id-6 div.sk-serial {display: flex;flex-direction: column;align-items: center;background-color: white;padding-right: 0.2em;padding-left: 0.2em;position: relative;}#sk-container-id-6 div.sk-item {position: relative;z-index: 1;}#sk-container-id-6 div.sk-parallel {display: flex;align-items: stretch;justify-content: center;background-color: white;position: relative;}#sk-container-id-6 div.sk-item::before, #sk-container-id-6 div.sk-parallel-item::before {content: \"\";position: absolute;border-left: 1px solid gray;box-sizing: border-box;top: 0;bottom: 0;left: 50%;z-index: -1;}#sk-container-id-6 div.sk-parallel-item {display: flex;flex-direction: column;z-index: 1;position: relative;background-color: white;}#sk-container-id-6 div.sk-parallel-item:first-child::after {align-self: flex-end;width: 50%;}#sk-container-id-6 div.sk-parallel-item:last-child::after {align-self: flex-start;width: 50%;}#sk-container-id-6 div.sk-parallel-item:only-child::after {width: 0;}#sk-container-id-6 div.sk-dashed-wrapped {border: 1px dashed gray;margin: 0 0.4em 0.5em 0.4em;box-sizing: border-box;padding-bottom: 0.4em;background-color: white;}#sk-container-id-6 div.sk-label label {font-family: monospace;font-weight: bold;display: inline-block;line-height: 1.2em;}#sk-container-id-6 div.sk-label-container {text-align: center;}#sk-container-id-6 div.sk-container {/* jupyter's `normalize.less` sets `[hidden] { display: none; }` but bootstrap.min.css set `[hidden] { display: none !important; }` so we also need the `!important` here to be able to override the default hidden behavior on the sphinx rendered scikit-learn.org. See: https://github.com/scikit-learn/scikit-learn/issues/21755 */display: inline-block !important;position: relative;}#sk-container-id-6 div.sk-text-repr-fallback {display: none;}</style><div id=\"sk-container-id-6\" class=\"sk-top-container\"><div class=\"sk-text-repr-fallback\"><pre>Perceptron()</pre><b>In a Jupyter environment, please rerun this cell to show the HTML representation or trust the notebook. <br />On GitHub, the HTML representation is unable to render, please try loading this page with nbviewer.org.</b></div><div class=\"sk-container\" hidden><div class=\"sk-item\"><div class=\"sk-estimator sk-toggleable\"><input class=\"sk-toggleable__control sk-hidden--visually\" id=\"sk-estimator-id-6\" type=\"checkbox\" checked><label for=\"sk-estimator-id-6\" class=\"sk-toggleable__label sk-toggleable__label-arrow\">Perceptron</label><div class=\"sk-toggleable__content\"><pre>Perceptron()</pre></div></div></div></div></div>"
            ]
          },
          "metadata": {},
          "execution_count": 24
        }
      ]
    },
    {
      "cell_type": "code",
      "source": [
        "nor_preds = perceptron_nor.predict(norX)"
      ],
      "metadata": {
        "id": "AsZZ6mgJ3ucS"
      },
      "execution_count": null,
      "outputs": []
    },
    {
      "cell_type": "code",
      "source": [
        "print(\"Inputs:\\n\", ORX)\n",
        "print(\"OR Gate Predictions: \", or_preds)\n",
        "print(\"NOR Gate Predictions: \", nor_preds)"
      ],
      "metadata": {
        "colab": {
          "base_uri": "https://localhost:8080/"
        },
        "id": "ymXZ3S7l4ONI",
        "outputId": "cd9cb19b-d384-4893-8603-cfa8ad766184"
      },
      "execution_count": null,
      "outputs": [
        {
          "output_type": "stream",
          "name": "stdout",
          "text": [
            "Inputs:\n",
            " [[0 0]\n",
            " [0 1]\n",
            " [1 0]\n",
            " [1 1]]\n",
            "OR Gate Predictions:  [0 1 1 1]\n",
            "NOR Gate Predictions:  [1 0 0 0]\n"
          ]
        }
      ]
    },
    {
      "cell_type": "markdown",
      "source": [
        "Can't believe that actually worked"
      ],
      "metadata": {
        "id": "bhxM8gWO43my"
      }
    },
    {
      "cell_type": "markdown",
      "source": [
        "##XOR (I suppose I can implement it using a series of NOR gates but there's probably a better way -- Ask Sambit Da)"
      ],
      "metadata": {
        "id": "hCpAEvbM5JXm"
      }
    },
    {
      "cell_type": "markdown",
      "source": [
        "Also I think XOR gates will need more than three perceptrons here. If I string together nor gates thats still like: (Question: HOW) ![image.png](data:image/png;base64,iVBORw0KGgoAAAANSUhEUgAAAwgAAAGXCAIAAACYyOD/AAAgAElEQVR4AeydCVxNaf/An9u93ZbbvqiUklJChSLJVhKppKIFUdqUqGiR9qJ930W0IJUlZqxFaAzDDGMbDDP+mLGMLZUWyv2/dbz3bVKpbvfec+/93c983vfce855lu/vOaevc54FUeEDBIAAEAACQAAIAAEg0EUAAQcgAASAABAAAkAACAABjACIEbQEIAAEgAAQAAJAAAh8IQBiBE0BCAABIAAEgAAQAAJfCIAYQVMAAkAACAABIAAEgMAXAiBG0BSAABAAAkAACAABIPCFAIgRNAUgAASAABAAAkAACHwhAGIETQEIAAEgAASAABAAAl8IgBhBUwACQAAIAAEgAASAwBcCIEbQFIAAEAACQAAIAAEg8IUAiBE0BSAABIAAEAACQAAIfCEAYgRNAQgAASAABIAAEAACXwiAGEFTAAJAAAgAASAABIDAFwIgRtAUgAAQAAJAAAgAASDwhQCIETQFIAAEgAAQAAJAAAh8IQBiBE0BCAABIAAEgAAQAAJfCIAYQVMAAkAACAABIAAEgMAXAiBG0BSAABAAAkAACAABIPCFAIgRNAUgAASAABAAAkAACHwhAGIETQEIAAEgAASAABAAAl8IgBhBUxh+AvX19RUVFXFxcRUVFadOnfr9998bGhqGPxtIEQgAASAABIDAcBMAMRpuopAelXrgwIERI0ZQKJQRI0aMHDlSVVV14sSJpqam/v7+mZmZV69effnyJXACAkAACAABIIBDAiBGOAwK2xepurp69OjR6N8fAoHAy8vLx8dHoVDExMQmTpzo6elZWlp67949tq8wVAAIAAEgAAQ4hQCIEadEEk/1aGtry8zMVFRUJBAICCECgSAiLCQtKS4uJioiLEQRFPy3MiFhYeFFixZFRkbW1tb+9ddfr169ampq6ujowFOdoCxAAAgAASDAFQRAjLgizCyp5HfffTdx4kSEkICAgK314sK0mJ2pMYkRgVt8PQ10taZojR+npqo4SoGXl9Tdk+Tl5U1MTAICAvbv3//TTz89evSopaWFJeWHTIEAEAACQIALCYAYcWHQmVflqqoqDQ0NhJCYmNiKpUuqdqb8UJF3sTL3/P7sqsKUXalRyRH+q6wXmhoZ6E+dMk59rIiICE2SSCSSlpaWnZ1dbGxsZWXlzZs3oQc38yIHOQEBIAAEuJUAiBG3Rp5Z9a6rq5s0aRJCSERExMlh6YmitIuVuT9U5NaV51zYn9X5X1nmiaLU8pxtBfFbIn1dnWwtTebNUVdToxkSkUiUkZHR19e3t7dPTk6+cuXK+/fvmVV8yAcIAAEgAAS4iwCIEXfFmyW1rampwd6piYqIbHB3+lqMzu/LOLc3/dzetDOlqccKEyqzowvjg8J9XFbbW0+ZpM3Pz49JEoFAEBcXHz9+/IIFC7Zu3frbb7+xpDqQKRAAAkAACHAwARAjDg4uXqrW0dFx+vRpzI14eXm3hgT0eGJEE6PaPam1pSm1JclnipOqixJOFsZ9nx9TkhwS6ue5yMSE9gwJG+AmJCQ0efLk1NTUJ0+e4KWqUA4gAASAABBgcwIgRmweQPYp/pEjR8aMGYONU0uJCjq/P5v2Kq1XMaopSqjZHV+9K656V9ypwm2ndm4rz4iI3eIzf66BpFjn4DaaJwkKClpbWx85cuTJkyeNjY0wnI19GgWUFAgAASCAOwIgRrgLCacWqK2tLTExUUpKCiGkOV6jKD3mfNmXPkYDFKOTO2JOFkQfy48qTgoO83WbpKGirCgvIS5GMyQNDY2QkJAzZ848fvy4ra2NU0lCvYAAEAACQIBxBECMGMcWUu5JoKGhISgoCCHEz8dnsdD4QH481vl6UGJ0YnvUifzI43kRR7PDCrb5B3osn2+gM3GcGj8fH2ZIYmJiFhYWaWlpFy9ebGxs7FkI+A4EgAAQAAJAoG8CIEZ9s4E9DCDw4sWLBQsWdA1SE/Zes/xUcdqFssyhidHx3PBjOaHfZYdUpG5OD/Fyt1tkNHO64qhRmB5RKJRp06atW7du79699fX1DKgKJAkEgAAQAAIcSADEiAODivMqPXr0SK1rNP4oBfn44PW1ezPoEaPvs0O+y9pyNDP4cPrmkriN6ZvdXOwtJ2qoY3qEDfU3MjLKysp6/vw5zslA8YAAEAACQIDlBECMWB6C/grw/v37a9eu1XHcJyUlha/rzZeBvt7h/LhhEaOjGcFHMoKq0gIOpviXxvpE+rosmDeXTCZjhkQmkxUUFCIiIt6+fdsfcdgHBIAAEAAC3E0AxAi/8W9qagoNDcX+rnPk/2Ij1ALWuXRNYtQ5j1H34fpfj0rDOl/T+hhhr9JoT4z+K0aBVakBh1P8DyVvPJjkl7TZy8HGUoCPTCQSMYYyMjJBQUF///13W1vb58+f8Rt+KBkQAAJAAAiwggCIESuoDyzPV69erVu3DiHEw8MjynEfRUVFZWXlrjkbJfZnb8MmeBx2MTqY5HsgwScvfJ394vnKCnLCQhTMxuTl5bds2XL16tX6+nrQo4G1RzgKCAABIMAVBECM8BtmmhjJy8snJydncdanqKgoOjp65MiRCCHD2QanS1IZ8cQIE6PKhA3749bnhK51W2aqP0WTQumcA4mHh0ddXX3jxo01NTWtra34bQdQMiAABIAAEGAiARAjJsIeZFY0MdLW1ubIYefPnj2zt7fHXnIlR/gzVIwq49dXxHmXbVuXs8XdY+mCWXpTRkhLI4SwpWr9/PzOnj0LejTIFgqHAwEgAAQ4kACIEX6DyvFiRKVSz549q6CggBAar656qCCeQa/SKhM2YGJUHruufJvXvhjP/C2u4R6282fri4mKIoSIRKKqqqqXlxesv4bf6wFKBgSAABBgCgEQI6ZgHlIm3CBGHz9+XLFiBUJIiEIJ3+TFHDHav9WzLGbt3iiPnSFrtnjYq6uOwfpl8/HxqaqqJiQkvH//fkgRg5OAABAAAkCA7QmAGOE3hNwgRlQq9dq1a9jbNB1NjcPb42mLyA7LqDRaH6PuT4wwMSqL9tgX5b430q0ozNXfY6XSKAUS6cvINW1t7crKyubmZuiXjd/LA0oGBIAAEGAMARAjxnAdjlS5RIyoVOrq1asRQnKyMhEbPc6UJNeWJJ8pTmKaGO2JcN0T7rJji7OzzQKlkSME+L8sLbJs2bK6uro3b94MRzAhDSAABIAAEGAPAiBG+I0T94jR3bt3Rbv6+hjP0jtSEMcSMSoNc94d6pTst9LCUG+MkgKh66OkpBQUFPTrr79yxpK0NTU1+G3uUDIgAASAAD4IgBjhIw69lYJ7xIhKpTo5OSGElEYpZEb4skqMSsKcikNXF2xeFe1pazp7qrCwMEKIl5dXX18/PT0dFlzrrZHCb0AACAABTiMAYoTfiHKVGNXU1PDx8RGJJE/Hpad2JTL/VVppmDMmRsUhq4q3OOb4r1xvZ6KrpYH1yx4xYoSVlVV1dTV+mwuUDAgAASAABIaDAIjRcFBkTBpcJUYvXryYMWMGNtnjodwYlotRUfDKwqDlaT62rksXjJSVQQgRCISRI0du2bLl3bt3jAk4pAoEgAAQAAKsJwBixPoY9FUCrhKjtra29PR0bL2OzHCfmqJEJne+7vHEqCh45a6g5bsCHQoD7BPW2+tP0eTrWo+WSCQaGRnV1dV9/PgRxqz11XThdyAABIAA+xIAMcJv7LhKjKhU6pkzZ+Tk5BBC3i6Op3Yl4EeMCgPstm+yW+tgKSMhysfXOWZNQUEhNzf32bNn+G09UDIgAASAABAYEgEQoyFhY8pJ3CZGf/zxh7W1NUJoxnS9YzticSVGO/1td25aFutpYzF3urSkOEKIj49v6dKlp0+fbm5uZkpzgEyAABAAAkCAGQRAjJhBeWh5cJsYtba2xsXFEYlEQUHB4pQwHIpRgZ9N5gYbr6XzJo9XxR4djR49euvWrU+ePBlaiOEsIAAEgAAQwBsBECO8ReR/5eE2MaJSqYcOHRo5ciRCKNzfG59iVOBnnetjHe1isWjudGzCbnFxcXt7+8uXL7e3t/8veLAFBIAAEAAC7EkAxAi/ceNCMbpx48b06dMRQrbWS3ArRtt9rfN9rDK8LX2WLxoxYgRCiEQiaWpqHjlyhDPmgcTvJQElAwJAAAgwngCIEeMZDzUHLhSjf/75x8LCAiEkL6+AczHK97HM22CZ4GllME0Hm+uIQqGkpKQMNdpwHhAAAkAACOCCAIgRLsLQayG4UIyoVOqGDRtIJBJCqCJna83u+OpdcdW74k4Vbju1c9vJHTEnC6JPbI86kR95PC/ieG74sZzQ77NDvsvacjQz+GhG8JGMoKq0wKrUgMMp/oeSNx5M8hvIIrLYWmn9DNcvDLDDOl8X+NkU+FljT4wwMcr1tkhZa7Fk3nQxYQoPDw9CaNmyZbdu3YJHR702afgRCAABIIB/AiBG+I0Rd4pRZmYmtm5aZsxmthCjXG/zdC8L72XzJqgpE4lEAoEwefLk/fv3v3//Hr9tC0oGBIAAEAACfRAAMeoDDA5+5k4xOnz4sIxM50zTm33WsosY5awzy/IyC165YKbOBGyO7LFjx6akpLx48aKvdtTe3v73339funSptutz9+7d1tbWvg6G34EAEAACQIBpBBguRq2trb/88suBAwfKyspOnjz58uVLptWN3TPiTjH65ZdflJWVEULuTivYSIyyvRZle5rGuS6yMdTFnnhJSkq6u7v3OgnkrVu3/Pz85syZM3HiRPWuz7Rp01auXHn48GHQI3a/bKH8QAAIsDuBIYqRra2trq5ucXFx//W/evWqhYXFmDFj5OTkZGRkFBQUNDQ00tPT37x50/+JsJdKpXKnGD1//nzcuHGd0zxO02U7McpauzDFbeHaJXNUlJUQQoKCgosWLbp371739lxRUaGioiIgIIAQGjNGxczcQlV1LDa0TVFRMTw8vL6+vvvxsA0EgAAQAALMJDAUMbp3756QkJCEhISDg0M/ZY2KisJG6/T4Xx4eHhMTk0ePHvVzLuziWjGiUqna2toIIRkpcXYUo0x3kwx3ky2rTMepjsZavqio6NWrV7EmvXPnTikpKYTQtGnTq45819Ly5fXZ7Tu/ea/3QQiRyeS4uDiYTRvuAEAACAABVhEYihht375dTEwsJCRk/PjxV65c+bronz59KiwsFBER6aFEtK9EInHVqlWPHz/++lz4hUaAO58YUalUfX19hNAISbHvd8Tif1Rarrd5zjoz7FVa1tqFXWI0P8PNONJ5oY6GMpnMixCSlZXdt2/fhQsXpkyZwsvL67dx06tXr2mBxjaam1uSklMlJCRERUWPHTsG00X24ANfgQAQAALMITBoMWpubra1tTUwMKirq5OVlc3MzPy6oL/99hv2t41mQl9viImJ5efnw6jmr+nRfuFaMXJxcSESiZLiovsyo9hXjNJd5211XmA0dSJt3dlJkyaRyeTZs+c0NX2gRbn7xps3b0PDIigUyuLFiz986P2Y7sfDNhAAAkAACAw7gUGL0fXr18ePH+/j49PQ0DB+/HhHR8evu0SkpqaKi3cutNn/x9LS8vnz58NeJY5JEMSI3cUo3dUoYc18q1la8iNlsWuBQqFUHTnaTxP95dq1qVOnCQkJ3b9/v5/DYBcQAAJAAAgwiMCgxWjHjh2SkpI3btxoaWlZs2bNpEmTLl261L1wzc3Na9euJRAI/VsRQkhCQsLExMSy7w8thb4P4eQ9pqam2PgsbW3txsbG7pA5e5tjnhiluxqluRglrzFcu2SW6mhFhNDUqXp//PFnP+H78OGDnZ0dQmjmzJls0bhtbGz27NnTT41gFxAAAkCAvQgMToxev369Zs2aCRMmNDQ0tLe379y5U1xcvLS0tHudX758aWtrS3Ma2KCfAIgRnme+7quPUbrrPEyMUtcYJjnNdTCaJCgouGq18zdnrFi9ejX9bYaZKRgaGvY6K0H32wJsAwEgAATYhcDgxOjKlSsGBgbm5uZ79+6tqKhITk5WUlLy9PR8+/YtrcKNjY3Ozs7MvC9zfF4gRuwuRvFOhib6WgihecbzHz9+QrtYet1gOzHS1ta+e/dur3WBH4EAEAACbEdgEGLU0dGxe/duGRkZOTk5pa6PoqKiqKiorq7ub7/91r3mYWFhWIfT/pVFT0+v/0H7tNO7J84929DHiAP6GKW5GCU6Gy0xnIo1ZklJqZ9//rmfNvzg4R+GRkYEAqHHG+p+TmHhLjMzM4QQiBELQwBZAwEgMOwEBiFGr1+/dnd3nzBhws2bN7FyNDc3p6WlSUlJ9RhdXF1dPX78eJrW9LpBIpGCg4MbGhr6qRLtxH6O4eBdIEYcIEZxzsaL5+gihHh5eSmUzoVm13qu+/jxY6/ttrmlZdeuIjm5kePGjev/0uj1dOb/CGLEfOaQIxAAAowmMAgxun37tra2tqur66tXr2jFunDhwn9u4hs3bux+H29ubg4MDOz/odF/Xsn1/09nKpUKYrRu3TrsX+Rc1fna1NSUQCBIS4gdytvK1sP1o51MDHU7/4VAIpGMjY23bNmipKQkLCxcUrKntbWNdhFhGx8/fjxx8pT+DAMSiZSbm9uXPPU4i7VfQYxYyx9yBwJAgBEEBipG7e3tR48elZOTKygo+PTpE60oz549s7a21tfX77Fe5p9//tlXF2wCgTB27Nj9+/d/c1koECPuFKMvM19Lip/eFc++YhS+ymSWzngSiYgQ0tPTu3jx4ps3bwIDA4WFhZWURkdERt27/zvNfl6/flNUVKyjq0uhUOzt7Z8+ffr582faVYbbDRAj3IYGCgYEgMCQCQxUjD5//vz27dvbt2+/e/eue2bt7e2PHz/+7bffaLd42t7nz5+npqZiCyDQFAchZG5ufvny5YEsekA7i5YmV21w56u0t2/fYu9h2XlJkPmRTibTtMbxkkgIITU1tdu3b3d0dFCp1NevX/v7+yOEKBSKqqrqkiVWISFh3t4bxo8fLyUlRSQSrays7t+/jx2M/9YOYoT/GEEJgQAQGCyBgYrRYNOlHd/c3HzixIm4uLiIiIjt27f339uadha2AWLEhU+M7t69q6KighBycXRgz7XSFkQ5LZg0UQNrvRoaGj3+LUGlUmtra3V0dGjNG9ugUCjJyckD+QdDj8uEhV9BjFgIH7IGAkCAQQQYLkb0lJv2l4OeRNj3XO58YnTu3LlRo0YhhHzWrmE7McrwWBjuOH+y1kRsOVhTU9O+/iXQ0tJSV1eXm5ub1vWprKzs3kuPXRotiBG7RArKCQSAwMAJgBgNnBWzj+ROMSopKcFevyaF+7OXGKV6mK21mqM8WgkhJCws7OTk9PDhQ2Y3GubmB2LEXN6QGxAAAswgAGLEDMpDy4M7xSg4OBgbz1iUGslGYpTkYb503lRpKQnMiry9vR88eDC0uLPRWSBGbBQsKCoQAAIDJABiNEBQLDiMC8Woubl5xYoV2EJ7x3bGsYUY5ayziHW3MJ01RVCADyEkJiaWmJjYY5AmC1oPU7IEMWIKZsgECAABphIAMWIq7kFlxoVi9Pvvv8+dOxchZDRnTk1RAjuI0eKINeYGulp8ZDJCSFlZ+fDhwx8+fBhUoNn3YBAj9o0dlBwIAIG+CIAY9UWG9b9zoRidPn167NixCKGNXm5sIUZhLpYj5WR4eHgQQhMnTrx27Vp7ezvrmw6zSgBixCzSkA8QAALMIwBixDzWg82J28Soo6MjLy9PUFAQIZQbtwXnYpSxbrGzzUJs4CQ/P7+VlVVfA9AGG3c2Oh7EiI2CBUUFAkBggARAjAYIigWHcZsYvXz50tPTEyEkKSlxND8Gt2KU52MdvcbMdM50IrFzVmtZWVlvb28utCIqlQpixIL7AmQJBIAAgwmAGDEYMB3Jc5sY/fzzz9i0h6vtl54sjMenGGVvsPZaOk9jzCjMirS1tXfs2PH27Vs64szGp4IYsXHwoOhAAAj0QQDEqA8wOPiZq8To06dPRUVFAgICCKH4IK/qokQcilGy99JlC2ZJS4ojhPj4+BwdHX/88cevF8PBQdthUhFAjJgEGrIBAkCAiQRAjJgIe5BZcZUY1dfXr1y5EiGkOXF8WXr4meIkvIlRiNuy0SOlhYWEul72SUZGRj558mSQIeW0w0GMOC2iUB8gAASoVBAj/LYCrhKjx48fi4iIIITsLBcd2xGPKzHK2ujgYmtOEex8mtWpbpqax44da2tr+/z5M35bD1NKBmLEFMyQCRAAAkwlAGLEVNyDyoyrxCgyMhKbHXGbv3ttSTJOxCjf3yHM1Up1tAKmRJKSkitXruTOfta9Nl0Qo16xwI9AAAiwNQEQI/yGj3vE6N27dxoancvRT5uivTcjEg9itGvzyuQNdramc0YpyCOEeHl5NTU1d+/e3dzcjN8Ww/SSgRgxHTlkCASAAMMJgBgxHPGQM+AeMUpNTUUICVEobsutqouTWS5G2QGOblaGOlrjsQdFioqKHh4et2/fHnIoOfVEECNOjSzUCwhwMwEQI/xGn0vEqL6+fsyYMQghddUxOxJDa0tTWChGO7asjlxrZzR9koiI8H/Gx/Hz8xsaGpaWlv7zzz/Qo+jrSwXE6Gsm8AsQAALsTgDECL8R5BIxiomJ6VIQPvdVdqeLk1klRiVhzikbV1kaG8iNkMLmKJKRkUlISHj48CE3D8jv//IAMeqfD+wFAkCAHQmAGOE3atwgRvfv31dXV+8cAC8uti97a+2eVJaI0e4wF69VS+VkZYjEzlXPEEI2NjZPnz4FJer/8gAx6p8P7AUCQIAdCYAY4TdqHC9G7e3t0dHRFAoFIeTpsurc3jQmi9GeSLfdYS6bXO3l5OQwH+Ll5Z0yZcqBAwc+ffqE35aBm5KBGOEmFFAQIAAEho0AiNGwoRz2hGhipKamdvHixeuc9blz587hw4e1tLQQQvJyslU7EpkpRnujPfKCXQKcrWfrT+Xn48Nmsp48eXJUVNRff/017KHk1AQ5QIwaGxsfPXr0559/vnr16v3795waKagXEAACAycAYjRwVsw+kiZGfHx8Y8eOVeesz6xZs2bOnEkkEvn5BeJDN53bm84cMSrb6pUb4h7gZGVkMFVcvHNxDxKJpK2t7e3tffnyZWbHmM3zY3cxamxs3L1795IlSywsLNavXx8aGlpaWlpVVXXhwoWbN2/+/fffbB4fKD4QAAJDIQBiNBRqzDmnvr4+ICAAe8XDef9LJpMFBQURQgvmzT1Tms4EMSqP9c7a4uG0xHiq9ngpSUmaEkVERFy6dKm1tZU5YeWkXNhdjF6+fOno6Nj94iKRSJKSkuPGjTMwMLC2tvbz80tISCgrK/vll1/evXsHIxM5qfVCXYBAXwRAjPoiw/rf29vbb9++nZ+fn8ZxH19fX6xrkcY49cKk0PP7MhgqRhXxGzK2rLU0njlaQVawa2UPHh6esWPHJiUl/frrrx8+fGB9sNmzBOwuRp8+fSovL1dRUenuRj22KRSKnJychobG9OnTly1bFhUV9f3333Pz+9b4+Hj2bK1QaiAwUAIgRgMlxZLjOjo6WltbWzjus2jRIgKBICQk7OfuWFOaxlAxSgtZt8TUWFxEiMzLi/3NExYWjoqKevDgQXNzMzwDoKdhs7sYUanUlpaWqqoqVVVVrG2MUpD39XLd7Ou10n7ZdL3pPSSJSCQKCgpKSkrKy8vPnj07Kiqqrq6OHoDseO6rV6/YsdhQZiAwcAIgRgNnBUcOA4H29vbY2FiEEIFAWGA0+0B+/IWyzOEVo8OpAQeSNu2O2RDi7Txzxpe/bQQCgY+Pb8yYMampqfX19cNQE0iCSuUAMcLC+Pvvv8vLd679ghAy0NM9UJD0w4H8i5V55/ZnF6bFRG72W73CXlFhpKAAPx8fmZdEIhAINGciEomLFi3Kysp68OBBY2Nja2trR0cHB7cO+LcEBwcXqoYRADGClsA8Au3t7d999x1CiIeHZ5LmhMLk8Av7s4ZRjA6kBhbGbNi6wXGljZniqC9/54hE4qhRo0xNTbdv3/769Wvm1ZYLcuIYMaJSqQ8ePNDT0+Ph6ZzIynyB0dFdqT9U5Hb9l1NXnt3ZUPdnVuTHJ0cEers6ztDVVlcZrSAvJyoqSjMkMpmsra3t4+NTXl5+7dq1Z8+etbW1cV4rgN54nBdTqFEPAiBGPYDAVwYSuHDhgra2NjadY1SAd+2+zGERo6rMLcVx/on+bu52ZrP09UREvvytEhISmjZtmouLy/79+0GJGBFXThIjKpV6/fr1WbNmEYlECoXismLZ8eL0HmJ0oSwT6wxXXZxSnrMtLSpgg8vyudMnT9LUGCknRyKRMEkiEAhqampr1qzJz8+vra198eIFI+CzKk3ok8cq8pAv0wiAGDENNbdndPPmTUNDQ2y1DdcVS6v3dFkRfU+M9qUGxwasdbIx1dfRUlIchSVOIBDk5OTs7e1zcnKuXbsG/8BlXMvjMDFqb2+/dOnSwoULsb5EHk4ravfn/FDxvydGNDH6MhNpafLZkuRjO+JLUsMTgrw8li8xM56jNXEC7RkSNtEG1mX75MmTb9++ZVwsIGUgAASGiwCI0XCRhHT6I3Dnzh07OzsBAQGE0KKF848XpdWV53S9nhj0q7Rj+VH70kLiN3u72i+ZNH6s4ih5bIAb9tdoxowZMTExZ86c+b//+z9Y0KO/kAzHPg4TIyqV+vHjxzNnzmDzjkqISwT7rP2mGNUUJdYUJdTsjj+xI7YiMyJ/6yZ/V3sHazMN9bE0QxIQEBg3btzixYsjIyN//fVXaJnD0fogDSDAKAIgRowiC+nSCLx+/drd3Z23a1DYAmOj0yVpP1TkDkGMSlLCIjZ5GRpMlxQXFREW4uuasRr726OmphYcHHz58uWXL182NzfTsoYNhhLgPDHC3Ojo0aMjR45ECMmMkE6L3kzrY9TrEyOaGFXviqsujD1VuO14QcyR3Mh9yUFxgZ6ujljH6HAAACAASURBVPbKyspYKyUQCPz8/DIyMnPnzi0sLGxsbGRodCBxIAAEhkYAxGho3OCsgRJoa2sLDg7GOlwbTJ++PzfuYmVnn9Z+xOhscdLp3YknC+O+2x6zLzU0NthnjaODkqIS7d/fBAKBl5dXUFBQWVnZ29v7/Pnz8L5soPEY1uM4UowwQtu2bcMecI5XH1ucEXO+rLPz9QDF6NSOmJMF0Se2R53YHnU8P/J4XkRmtP/SxYu6xrSRaSPaxMTEfH19r1y50tTU1N7ePqyRgcSAABAYOgEQo6GzgzO/SeD58+dRUVEIIV5e3ulTdYvTY+oqcnsVo+qS1GOFSVXbY/ekhmaE+27Z4Oa8wnaSliZNhrCJqsXFxZWVlQ0MDIKDg0+fPv3NAsABDCXAwWJEpVIdHR15eHj4+PgsTecf3ZlEjxgdyw3/Lju0NDEoYqOH3uSJciOksGnfEUJCQkKmpqZHjhx5/PhxU1MTQ+MFiQMBIDAQAiBGA6EExwyFwJ07d5YtW4ZZ0WyD6TuSIuoqO+eGuViZe6o087tdqRV5cbtTIjKjNm32WO6+0maZ5SLjubOVlJSwPtSYEvHw8EhJSWlra5ubm2/YsGHHjh3Xrl2Dl2VDiQcDzuFsMfrw4YOJiQlCSFpKKsTHrbo0bchPjI7lhn+fHfp9dsh3WVsOpG3OjfJ1d7DU1dIYKStDU38DA4Pw8PCzZ8++efOGAbGCJIEAEBgoARCjgZKC4wZOoL29/eLFi9bW1li/Iglx8SBfr+y40LToIC9HmzXLzJaazzc3MTScNUNnsrby6NG0vw20jVGjRs2YMcPBwSE4OHjHjh21tbWwoufA+TPtSEyMNDQ0ampqHnHi58CBAwoKCggh9bEq+bGbe85E2jUq7es+Rl+/SusuRkczg49mbD6SHrRrm1+wh4PpnGkaaqrYlcLDw6OhoeHj43Pw4MHXr1/DVIpMa8mQERDoTgDEqDsN2B4eAtevX583bx6ZTMZEh0wmj1UZM1pJUUF+JPYHgCZAtA1ZWVl9fX0nJ6eoqKjy8vLz58/funXr+fPnHDlF3vBQxkEqmBhRKJQpU6YYcOJHT09PXFwca6WWixbUlKT+a1E/+sSoKjXgcIr/vni/jM1u61ZYzp2lj2VEIpEUFBTMzc3z8vJg/Q0cNHMoAtcRADHiupAzocKlpaW0ye5o6tN9Q1paes6cOc7OzpGRkcXFxY8ePXr69OnLly/r6+ubm5s5e0UFJvBnWhb29vbdw8rZ23x8fOH+G4ZXjKpS/Q+nbDqUvLEiwbc0Zv0231WmxnOFhISxNXOEhYXV1NRyc3PfvXvHtJhCRkAACIAYQRsYfgKPHz/29fWd899PRNdn9+7dtbW19+/fH/78IEUWEairq/tvkDn5/7W1tbG+0vLyCqeKU8/tTes+weOQX6VVpQbQxOhgkt/BRL/KhA3lcevTg9damS+g9c5GCGloaBw+fLilpYVFccZRtjo6OjgqDRSFQwmAGHFoYKFaQAAIDBOBtra2gIAAzFRcHe1rSlIZJ0aV8esr4tZXxHqnbfawWmgkIyUhKNg5LSpCSF9f/9ChQ3/99RfMDzlMgYVkgEDvBECMeucCvwIBIAAEaATu379vZGREIBDERUXy4kKYIEblsevKt3klBbistjKZoKZMERTE9Gj+/PkFBQV//vknTH1Eiw5sAIHhJQBiNLw8ITUgAAQ4k8Du3bv5+Ph4eXnNTQyP70qqLU2ppbvz9dev0mhPjDAxKotZWxrlkeLvtNx87sRxajw8PAghYWFhW1vb0tLSly9fwsg1zmxtUCuWEgAxYil+yBwIAAE2IVBfX6+np4cQkh8pmxEdwDQxKovx2BftXhThluLnuNxinrJS5xTwPDw8srKyVlZWJ06cYBN+UEwgwDYEQIzYJlRQUCAABFhL4MCBA10zsBPtLOaf2p3EnCdGmBjtjXLbG+lWGLomcb299cI5QkJC2FzwCgoKnp6e9+7dYy0ZyB0IcBIBECNOiibUBQgAAcYSwB4aaWtOKIjfwnwx2hPhUhrmXBzqnOC3aq6BHm2qMBkZmZycHFgxkLGxh9S5hgCIEdeEGioKBIAA3QT27duHzdHlvMzsdFHi2ZLk4R2u/3Ufo+5PjDAxKglzLgl12hm8erOb/eiR0iLCX54emZiY1NbWwqRHdAcZEuB2AiBG3N4CoP5AAAgMnMDz588nT56MEJqlr1eRHcVCMSoOWVW8ZVVOwEo320VKI2WwOeVlZWUDAwNv374NQ/oHHlM4Egj0IABi1AMIfAUCQAAI9EmgpaUlLS0NISQmJpYSuv5McRKrnhhhYlQUvLIwaEWku43ZbN0RUhLYkH4DA4O0tLRnz571WQ3YAQSAQN8EQIz6ZgN7gAAQAAL/JvD58+dLly7Jy8sjhNwcbU/vTmS5GO3evGJX0PKcjfbr7ebrTZ6IPToSExNbvXr1Tz/99OnTp3/XAL4BASDwDQIgRt8ABLuBABAAAt0JPH361MrKCiGkqzPl+M44nIjRrkCHHQH2aeuXui5bKCUlhRDi5eVVU1PLzs5ubm7uXn7YBgJAoH8CIEb984G9QAAIAIGeBLC3af+Z02hHYih+xKgwwH6nv91Of9vkDbaGM/Wx12oIofnz50OP7J4hhO9AoG8CIEZ9s4E9QAAIAIHeCBw/flxNTQ0h5OvpikMx2rFxabbP0uUWRjLSksT/Tpb9/fffNzY2wkzZvcUTfgMC/yIAYvQvHPAFCAABIPBNAn/88cfixYsRQtOnTcWnGBX42eT52gQ7LZ4+SYNC6VxnTUREZOPGjTdu3IABa9+MLxzA5QRAjLi8AUD1gQAQGDSB1tZWPz8/IpGIEDqYH1tTlFCzO756V1x1Yeypwm2ndsScLIg+sT3qxPao4/mRx/MijuWGf58d+n12yHdZW45mBh/N2HwkPagqNWAga6X1NY8RbVQa1vl6V6AD7VXajo1LC/xsCnyt832skrysly+coaI8GiHEz88/b968ysrKpqamQdcZTgACXEMAxIhrQg0VBQJAYPgI5OXliYuLI4SSIwLxLEb5Pkuy1y/ZvHLhNO3x2CJrampqERERHz58GD4YkBIQ4CgCIEYcFU6oDBAAAswhcOHCBVVVVYSQy6oVOBej/A2WeesXx7mZW83Tl5aS/I/MCQkJmZiYPHr0iDmsIBcgwF4EQIzYK15QWiAABHBB4MmTJzo6Op1jvowM2UKMcr3NMzzN19svlJORRggRCAQNDY3z58/jgiYUAgjgiQCIEZ6iAWUBAkCAfQgYGxsjhCgC/Kd2xeO2j1G+zxLsiVGut3nOOrMcr0XhLotVFGSwDlJycnI7d+5samrqZ7Ta58+fP3782NTU1NjY2Nzc3NHRwT4hgpICgaEQADEaCjU4BwgAASDg7u5OJBIF+PlK0qPYSIyyPRcleZjP1hkvKdHZR0pMTCwgIODJkye9BvTZs2enTp3KyckJCAhYv359VFTU/v37b968CZNG9ooLfuQMAiBGnBFHqAUQAALMJrB161ZeXl5+Pr7cuC3sJUbZnqbpa01Xm88eNVIGmyPbycnpzp073Qm2tbXV1NSsWbNGVlaWNlckdvDs2bPz8/NhLbbuuGCbkwiAGHFSNKEuQAAIMI/A7t27+To/5OQIf7YTo6y1C1PdFmxYajhx7GhseTUDA4OqqioavvT09HHjxvHw8GhqagUEBuXn5+/evTs2Ns7cwlJUVFRKSsrb2xvciIYLNjiJAIgRJ0UT6gIEgADzCJw+fVpQUJDMyxu03o0dxSjT3STNzWTzcqMpGmOwLkfq6upFRUVtbW3V1dVjx45FCDk5r/nppytv375rb2+nUqlNHz48ePAwOydXRUVVWFg4Nja2ra2NecQhJyDAFAIgRkzBDJkAASDAcQSuXbtGoVB4eXl9PVazqRhluM9PdzOOd55nbmSAvS+TlpaOi4uzsbEhEAjOa1xbWlp69Mv+/PlzS0tL6Z69Y8aoiIuL99U5ieOiDRXiIgIgRlwUbKgqEAACw0jg+vXrHCBGGW7G6a7zklyMnZcupAjwY5NAEggEVdWxf//9rC9cL1/+4+TkzMPDExoa2tcx8DsQYFMCIEZsGjgoNhAAAiwm8F8xIm1wW8W+T4wwMUpzMUpzMXS3NpIUFcIeHflt3NTS0tIP4rL95bJycpqamteH49NPRrALCDCZAIgRk4FDdkAACHAIgb/++ktYWJiHh8dygSFniFGSs6GbxQwZSTGE0I6duz59+tRPqC7/dFVdvbN3tspQP7TBbioqKv1kBLuAAJMJgBgxGThkBwSAAIcQqK+vFxERIRAIM6dO4gwxSnGeG77SSFujc6mT4pI9/YvRpctX1NXH0eSGzg0OaRNQDY4gAGLEEWGESgABIMB0Anfu3BESEiKRSG4rbTlDjBKcDC3mThPs6mmUkJjc/4izk6dOjx6tLCsrmzbUD82l0tLSmB49yBAI9EkAxKhPNLADCAABINAPgf/2MWLvUWnd+xjZLJyLjdtHCM2cObuxsbGv6re2tkVERAoICLi4uHwa6ocmRv0/muqrDPA7EGAQARAjBoGFZIEAEOBwApwkRslrjJaZz8cWl1VTU1NQUPjPMnBJKekfP378OoodHR1na89N0dElkUgXL178+oAB/kITowEeD4cBAeYQADFiDmfIBQgAAU4j8OOPP2LD9Td5rWHfV2npbsZRq4wXz9PHBurPmDGjrq4uNzdXUlISIZSSmv7ixcuPH//XC7uxqenChbp58+aTyWQ3N7f+R671H3IQo/75wF5WEQAxYhV5yBcIAAH2JrB3715+fn4+MnnrZh+2FSOTcEdjw2lafGQyQmj69Onnz5+nUqlv374NCQkREhISEBBYsXJV/vbtP1z88cdLl48dOx4YFKSlPYmfn9/a2vr+/fs9pn8cVERBjAaFCw5mGgEQI6ahhoyAABDgKAIZGRlkMpmfjy8tKpAdxSjdfUHY6gWG07QogoIIoalTp2JWhAXpzZs3mZmZWlpaCCEJCUndqdP0pk8fq6aOEBIVFXV3d79+/XpHRwc9EQUxoocenMs4AiBGjGMLKQMBIMDJBAICAkgkkgA/X1FqBDuK0eYVxhqqSvz8fAihefPm3b17t0e0Pn36dOPGjezsbFtbWx0dHW1t7fnz5/v7+585c+bly5d0WhGVSgUx6gEcvuKEAIgRTgIBxQACQIDNCMyf39lbWVCA/3B+LNuJ0WZnS2VFeR4eHoSQra3t77//3it9bGW0N2/ePO/6/PPPPw0NDfQrEZYXiFGvzOFHlhMAMWJ5CKAAQAAIsB+BV69e6enpIYTERIRrihLYSIwy1i7yXWmGSQmJRLK3t//jjz9YEgAQI5Zgh0y/SQDE6JuI4AAgAASAQE8CV69eHTeuc95n11Ur2EiMEt1M7U1nCVM6OxVJS0v7+Pi8efOmZ92Y9R3EiFmkIZ/BEQAxGhwvOBoIAAEgQKVSy8vL5eTk/jPxT1SQD1uIUY63ReRqkwUzJgkLdS4TKyMjk5iY+M8//7AwmiBGLIQPWfdDAMSoHziwCwgAASDQO4GIiAhy1xD3otRIthCjIMeFGsojeXl5EUITJkyorKzsf8WP3qs9rL+CGA0rTkhs2AiAGA0bSkgICAABLiHwzz//LF++HCE0XkPj1K4EnItR9vol61cslpUSx0TEysqKnumqhzHEIEbDCBOSGkYCIEbDCBOSAgJAgCsI/PDDD7q6ugihVcvtaooS8SxGqd7WtmbGFEGBzgF0goJr16599OhRe3s7HuIEYoSHKEAZviYAYvQ1E/gFCAABINAngc+fPxcUFAh19dRJiQzArRjl+1hHulnpao3H1oWVkpKKj4+nZwWPPokMdQeI0VDJwXmMJQBixFi+kDoQAAIcRuDt27deXl7/WUdMWFjoYE40DsWowG9p1gYbb7uFSgry2ApoKioqFRUVeAsEiBHeIgLlwQiAGEFLAAJAAAgMgsCtW7c0NTURQsuszLs6GOHrVVrBJtutHtams6ZIS0khhKSkpJYvX/71rNaDqDDDDgUxYhhaSJguAiBGdOGDk4EAEOAqAm1tbUVFRXx8fAICAhF+7jXFSbh6YpTpZ+++dP74sWMQQkQicdKkSVlZWe/evcNnjECM8BkXKBWIEbQBIAAEgMBACbx+/drKygohpDVxQklKyBnciNHOAIe4dXazpoyXkugcfUYmk83MzGpqapqamgZaN6YfB2LEdOSQ4YAIgBgNCBMcBASAABCgUqmXLl3i4+tcdXWZhcmxnfFnS5Lx8MQoP2CF98rFqsqKxK61z8hk8rZt216/fo2T0Wd9tRwQo77IwO+sJQBixFr+kDsQAAJsQ+Dz588rVqxACKkoK6eG+daWJrNcjAqDVsZvsJ8zo3PVNuxB0dSpU2/fvs0WTEGM2CJMXFhIECMuDDpUGQgAgaEQePjwoaCgIA8Pz0LDmQfztrFWjHZvWZXha7/K2lSqq5M1iURSUVEJDw9vaGgYSt1YcQ6IESuoQ57fJgBi9G1GcAQQAAJA4OPHj6tXr+5ce1VKamvgutrSFFaJUXGoc6b/Si/bBdrj1Xm63p1JSUmtWLGitrb248ePbBQpECM2ChZXFRXEiKvCDZUFAkBgiAR++uknCQkJAoEwRWvCwbxYVolR4RZn/9VLZk6ZIC4mionFvHnzcnJynj17NsSKse40ECPWsYec+yMAYtQfHdgHBIAAEKBSqe/fv7e3t+fh4REWokRs8jxbmsp8MSqOcIvesGrOVK0R0pKYUowePTozM/P+/fufPn1ixzCBGLFj1LihzCBG3BBlqCMQAAJ0Edi5c6esrCxCaL7h7OrilNo9TBWjPVHu8RudZ0+fIioijL07o1Aonp6ed+/ebWtro6tiLD0ZxIil+CHzPgmAGPWJBnYMmUBbW9upU6f27t175swZ3E4uN+TawYk0AvX19ampqRGc/vHz81NRUcH+ihemRJ3bm8ZMMcra7Go+f66goCBWACKROGfOnJ9++okWBfbdADFi39hxdslBjDg7vqyp3YEDB0RERGh3PUlJyZkzZy5fvjwxMbGqqur69esPHz589uzZ+/fv2fQVAGuw4i9XFxcXWpQ5e4NIJBIIhDWO9uf2pjNBjMpjvYuiPBN9Vy6zMBEV7exLRCAQJCQkpk2bVlJS8uHDB/y1haGUiNZmhnIynAMEGEYAxIhhaLk44bNnz6qpqREIBNqNr8fG5MmTbW1tw8LCSkpKamtrb968+fTp09bWVi5mxpZVNzMzQwgJCAhoaIzX1NLmsP+0tLQ1NbXk5OQQQhQKZcxopYPb4xgtRuXx6wsjPcPdl9qazRshLY0pkZSUlLGxcWZmJoc9f6XdFtiy9UOhOZcAiBHnxpZ1NXvz5s327dvV1dWxGx8fH98kLU2D6dO0tTT5+flpd0NsQ05OTk9Pz8bGJjAwMCcnp7q6+vHjxx0dHawrPuQ8UAKYGI0bp1F15LufrlzlvP+++/57HR0dhJCsjEx0gFdt5+MiBj4xyg/38l1tNXf6ZAlxMezqEBERsbGx2bFjx5MnTzjvoqDdCgba4OA4IMAUAiBGTMHMfZk0NzfX1tZOnjwZIUQikWZMn5YaHbw3a1vylvUhG1zcHO0Wmy0cp66Ora6A3R8JBIKwsPDYsWNnzpxpb2+flJRUW1v7+vVr7oPHNjXGxGjylCkPH/7BNoUeTEE3btxIJpP5+QVW21l/X5h0oSyTEWK0P2Fj8mZPRytTDVUlmhKJi4t7eHicPHny8ePHOF/ZYzBE/3UsiNG/cMAX3BAAMcJNKDiuIO3t7Tdu3FBTU0MI8fHxWSw0PrIr5WJl3vnynOrSjO93pezPis7bFhixydN99YrZswxod0mEEA8Pj5iYmKKi4tSpUz09PQ8ePPj27VuOI8T2FeJsMSovLxcSEkIITdGeWJwWda4sY9jFqCxhY6Sfq4Gutoy0JK17tZycnLe396VLl169esX2TaTfCtAu+X6Pgp1AgNkEQIyYTZzb8nv37h3mRggh15V21XsyL1bm/lCRW1eec2F/Vud/ZZnn92Wc25t+bFdSVmzoBk9XDQ2NXvsnmZqalpaWvnnzhtsY4ra+HCxGV69epVAoCCFFxVHJEQFdbTVzGMWoMNZ/tYONpKQUTQ4QQnJycnFxcRzWkaif1kurez/HwC4gwHwCIEbMZ851Od6+fVtPT49EIiGEVtvbnNuf3asY/W+wT0lyZe62xPBNNuYLlORlZUZICQsL0+6hFApl1qxZ2dnZN2/e/Pvvv6HLNgvbE0eKUUdHxy+//DJhwgSEkKiIyCZP59p9XQa/ny4xOpwRsjcxICvE09fFYYbeNFp7FhQUVFRUtLCwOHLkSGNjIwujyfysaRCYnzXkCAT6IQBi1A8c2DU8BNrb28+ePTt16lTsOVD4Jq/asuyvnxh1F6MzxUk1RQk1u+MP58VkRAd4r3GYPmm8moqylKQE7WYqKSm5ZMmS/Pz8H3744fnz55zaD2N4YsCYVDhPjDo6On7//Xc7OzsymYwQsjJbcKIkva48e8hPjA5nhxcnBKUFr127YskCo9lyXbNEYm141KhRs2fPDggIOH/+PHf6Pe1aZkzzhFSBwBAJgBgNERycNigCbW1thw8fVldXJxAIIiKiSeH+58qwPzb/e5XWqxhV74qr3hV3qnDb0byYgtigEO/VlvNn6etOFup6zYEQIhKJysrKy5cvT0lJuXz5cktLy6AKBgfTQ4DzxOjx48cuLi7Y2Ml5sw2OFKb8UJEzWDE6uSPmYHZEbsymzWtXLltkNGOajuKoUTQJkJeXX7hwYVBQ0KFDh/788096+LP7uTQm7F4RKD+HEQAx4rCA4rc6zc3NmZmZkpKdyzxN1tLckRzRo49R/2J0aue2kztiThREH8oOL4wNCHKzs7UwmT51Cu3eKiwsPG3aNEdHx3379rHjgpr4jVzfJeMwMWpoaNi0aZOYWOdQeb2pOhV58T9U5A5cjI7viC1JCUsM9Vm70mbmVK0J49SkpaWIRCLWRAUEBIyNjUNDQ6uqqu7cucPWS3n03SIGt4d28Q7uNDgaCDCYAIgRgwFD8t0INDQ0REZGYo95ZulPPViQ2L3z9UDE6GRB9IntUSfyI4/lRhzMCClN8N/m57zKboniKAXsJksgEKSlpSdPnuzv73/nzh3Om/qlG07Wb3KYGPn4+GDD0PSm6pRmbq3rtKJvi1FxenRciJ/7aodpk7XkZUdISUrQxpchhPj5+efPn5+amnrp0qWnT582NTV9/vyZ9ZHDRwlAjPARByhFTwIgRj2JwHdGE5gzZw42XbLL8qUnS9Jpo9IGJUbH8yKO54Yfywn9Pjvku6wtlWmbYwLWGc6eRbvVYhs2Nja1tbWMrhHXps8xYtTQ0GBpaYm1GW3NiXuytl08uP1iZV5vYpR2dGdiVlxooI+njdUSbEhBj1aHzZRtZ2d34MCB+vp6rm0e36w4jds3j4QDgAAzCYAYMZM25NVJ4P3794qKiggh5dGjU8L8zu3LwIbr0yNGRzODj2YEH8kIyonyW227RFJMRFBQAFuHHCFkYGBQWVn54sWL1tZW+Pf6MLZCDhCj9vb2p0+fmpqaYotvaIxTz9wWUrMv+2Rpxomi1EP5sXvSIzNiNm/x81y7ZtVi80UjRoyg/TnHNkgkEoVCkZKSUlBQMDU1jY+Pv3LlyjBC5uCkaCQ5uI5QNXYkAGKE66j99ddfx48fP8xxHy8vL+yeOE1nUnl2zDCKUVVa4OHUgN3b/Da62M/U1VIaJY9lRCQSJ02alJaW9uOPP3LMGpwsb7vsLkYdHR0//vijmZkZNgaNTCYbzpm1YpmVvY2l0dzZswxmiIv/bxQk7a84kUiUlJRUVlaeNm2aqamph4dHRkbG2bNnOX4+xmFvbzSkw54yJAgE6CEAYkQPPcae29zcnJaW1n0KH9p9hAM2eHh4sH6pvu6rhleMqlIDDqf4H0reWBLru9VvzXz9SRpjVfj4Otdo4+Xl1dTUDAsLq6urAz2iv/myuxi9e/fOy8uL1j+618uKRCJJSkqqqqrq6uqamZk5OjoGBgZmZGRUVlbevHmzqamJfoxcmwINONcSgIrjkwCIET7j0lmqV69erVu3jnbv4LANKSmp0aNHI4RGjpQrTo/51xJUJcm0eYxow/WxUWm0ztc9+hjRXqVVpQXSxOhgkt/BJN+yOJ/UAFfXpabTdSZRBAUxjBMnTvT09Kyrq4Ph/fRcAOwuRm/evAkKChIREUEISUpKqqurjx8/fvbs2ZaWlh4eHoGBgSkpKaWlpVVVVWfPnv35558fPXrEPdNS09MwBngu7Z42wOPhMCDAHAIgRszhPJRcaGKkpqZ28eLF65z1uX37dnp6umzXfHdmCxdUl6QOSx+jr8XoQIJPZfyGsljvHWHuQW52+lM7F0vHnh6NGjVq2bJl169fH0p44Bwqld3FqKOj459//rl169b169fv3LnzoOvz+PHj58+fv337tqGhAQbVM7SZgxgxFC8kPmQCIEZDRsfwE2lipK2tzZFrBfzzzz8ODg7YO7WE8EAGilHChsr49RVx3mXb1pVEesRudJ5joI/dlIlEopCQkKen519//cXwiHJcBuwuRhwXEDarEIgRmwWMa4oLYoTfUHO8GFGp1BMnTozqmhR4osa444VJtXtSa0tTaof1VVrnE6P/ilF57LrybV77t3qWRHlEblilN1lTmCKILVQiKCgYGBj422+/tbS0wMi1AV4VIEYDBAWH9UoAxKhXLPAjywmAGLE8BH0WgBvEqLW11cPDo2veF8EwP4+zpUwSo7KYtWXRHoXh7iFrHfS0x42Qlsbu0WpqaomJiTdv3oSV1/psl912gBh1gwGbgyYAYjRoZHACUwiAGDEF85Ay4QYxolKpt27dEhYW5uHhmamnczBvG3OeGGFitC/KfW+kdmougAAAIABJREFU2/YQV19HKx1NdTFRUazvkZGRUX5+Pqwr8s1mC2L0TURwQD8EQIz6gQO7WEgAxIiF8L+RNZeIEZVK9fHxQQhJSUps9nJivhjtiXDdE+6SGbBqnZ3p5InjsCltBAUFLS0t9+3bx5G9u77R8ga8G8RowKjgwF4IgBj1AgV+wgEBECMcBKHvImDD9Tm18zWt3g8ePBAQ6JyoesFcgyPb45jQx6j7EyNMjErDnHeFOCVtsF9tZSIiLITNg6ygoODq6nrr1i14s0YLVvcNEKPuNGB7sARAjAZLDI5nDgEQI+ZwHmIuXCJGnz9/9vT0RAipKCvnRPuzSoxKwpyKQ1fvCl6V5udgaWqM3bWJRKKiomJmZubHjx+HGEXOPQ3EiHNjy4yagRgxgzLkMXgCIEaDZ8bEM7hEjKhU6qVLl7B3WK7LrU7tShzGCR57HZXW6xMjTIyKQ1YVb3EsCl4Zvc5eR3O8AD8fNmxt7ty5V65cgZmOuzf/5ctXIISmTJnyxx9/dv8dtoHAQAiAGA2EEhzDfAIgRsxnPogcuUeMXr16ZWzc+ZBmzswZh3Ji8CBGu4KWZ250cLQ0VlaU5yWREEIyMjJbt279v//7v0+fPg0iipx76DrvDQghbW3tu3fvcm4toWaMIgBixCiykC59BECM6OPH4LO5R4xaW1uTk5OJRKK0lFT+1oCaosSaooSa3fH0Lwky5CdGu4KW7wp0KAhwiHCzNpkxWUREGCHEz89vYWFx8ODBhoYGBgefDZIHMWKDIOG4iCBGOA4OVxcNxAjX4eceMaJSqRcuXFBWVkYI+bqvOrUrASdiVBhgXxhgl+Vn57J4lvYEdYQQDw+PmppaWFjY8+fPcd16GF84ECPGM+bkHECMODm67Fw3ECNcR4+rxOjRo0d2dnYIoZkz9I/tiMWVGO30ty3YuCxurdUykxkyIzpng6RQKHPmzKmqqsJ1A2Jw4UCMGAyYw5MHMeLwALNt9UCMcB06rhKj1tbWrVu3IoSIPDylqeF4E6Odm5YV+Nnk+lhvWbNEY+wY7J4uIiISERHx4cMHXDcjhhUOxIhhaLkiYRAjrggzG1YSxAjXQeMqMaJSqQcOHJCTk/vP66roIB98ilGBn/V2X+ukdUtnTJnIRyZ3ahyRaGZmdu/ePS6c6wjECNe3D9wXDsQI9yHi0gKCGOE68NwmRteuXZs6dSpCyH6pNZ7FKN/HKmeDlae9uYKMFC8vL0JIS0vr4MGD79+/x3V7Gu7CgRgNN1HuSg/EiLvizT61BTHCday4TYzevXtnbW2NEFJSUjq9Gxej0rDO1zv9bbFXadgTo3wfq3wfy7wNllFulnOnTpSUEEcISUpKBgYG/vknF83oA2KE69sH7gsHYoT7EHFpAUGMcB14bhMjKpXq6+tL6po0qCJnKx6G6/cvRrneixM8zB0XzZSVlsQWoLW2tj5z5gyuW9XwFQ7EaPhYcmNKIEbcGHV2qDOIEa6jxIVilJWVJdq1yn1SRAA7iJFFrrd5hqe5j908NWVFHh4eAoEwYcKEoqKitrY2XLet4SgciNFwUOTeNECMuDf2+K45iNH/4vP58+cPHz7U19ffuHHjzJkzz549a2pqYu0KWVwoRgcOHJCRkUEIhfl7s4sY5awzy/RaFOW80HjWdGz1WWlp6cTExIF0OXrz5s3PP/986dKlZ8+e/a8tsskWiBGbBAqnxQQxwmlguL5YnCxGz549u3Tp0vnz52tra3/++ec//vijn3/ENzU1VVdXW1lZiYiI0C5XAwODuLi4hw8fdnR0sKSpcKEY3b17V1VVFSG0ZqU9G4lRtteibE/TrLULl1suwNYPQQi5u7u/fPmy15ZTX19fVVVlZGQkKCiItTcikaivr7937976+npWtbdei9rPjyBG/cCBXd8kQLvTfvNIOAAIMJMAJ4tRfn6+goLC9OnT58yZY2ZmtmTJkqNHjzY3N3/Nt6GhISsrS1Kys5tIjw8fH5+lpeWvv/7KksHYXChGL1680NDQQAjNnqHHjmKU4b7Ay8ZQRkKEh4cHIbRw4cLr16/3WFvt7t272FSWoqKi48ZpTJ48efKUKRoa4yUlJUkk0uLFi2/evMkWbgRi9PXNBH4ZOAHazXbgp8CRQIAJBDhZjNLS0iQlJSsrK+/fv3/mzBlLS8vp06dfvXq1B9a2tra8vLxerQi7bslksoODw++//97jRCZ85UIxolKp2tranSu2Somzoxhlupuku5n42MzWHDuan48PIaSurn7s2LGWlhaswTx8+NDAwICXl6ylpR0eHvHDxUu/P3j48OEfP176KT4hUVt7EolEWrJkyf3795nQwOjMAsSIToBcfjqIEZc3ANxWn/PF6NKlS1QqtaOjo7KyUkJCYu/evT2CceXKFX19fQKBQLtKv94QERHJyclpbW3tcS6jv3KnGM2aNYtAIEhLin1XEMvyRWS/NSqts/N1zjoz2qu0THeTDPf56W7zw1YYmcyYTO6a5UhVVTUvL+/9+/cNDQ3u7u4IIZMFC2vPnf/w4V/PL1taWurqfpg3z5hIJNrb29NcitHNbMjpgxgNGR2cSKVSaXdaoAEEcEWAW8Sovb29sLBw3LhxZ8+e7RGAuLg4YeHOhdP7/5ibmzO/eyx3itHy5cuJRKKkuNj+rGg2FaMMN+N013lbnYwXG07D2pWSktLWrVvLysqwhXJPV9f0eL+GNcv29o5Tp6vl5RUEBATOnTvXo63i7SuIEd4iwl7lod1y2avYUFqOJ8DhYiQuLl5dXf3u3buysjJdXd2IiIgeT306OjrWr19Puz772RAQEJgyZYoBcz/cKUYuLi5dYiS6LzOKrcUo3dUocc08FysjcfHOGSAFBQUVFBTIZLLzGpd+Rjt+/PjRy8ubRCLFxsXj/AYEYoTzAOG8eLT7Lc7LCcXjNgIcLka8vLwjR45UUlKSk5MzMjK6fPlyjz7UL168WLp0Ke36xNuGrKwsQkhbW7uxsZF7miYniVGai1HqGsMNNrOlJSV4/vu69sChI/1Hs7zioICAgISE5IqVq/D835gxKlj7vHv3bv81gr1A4GsCtPvt17vgFyDAQgIcLkZycnIlJSU//fTToUOHDA0NFy1a1OMO3tjYuGbNGtr12c8GhUKZNWvWgsF8aKkN5qR/HYulAGJ0qnDbqZ3bTu6IOVkQfWJ71In8yON5Ecdzw4/lhH6fHfJd1pajmcFHM4KPZARVpQVWpQYcTvE/lLzxYJLfwSTfAwk+lQkbKuPXV8R5l8euK9/mtX+rZ1nM2rJoj31R7nsj3fZEuO4JdykNcy4JcyoOXV0csqp4i2NR8MpdQct3BToMrY8R9iot3dUIE6MkJ0P3JXNHyY/EAvr9sZP9X/M/XLxEoVBo7QfnG7q6ug8fPuy/RrAXCHxNgNawv94FvwABFhLgcDGSlJSkdb4+ePCgjIzMzp07e+COj48fSB+j/4z5v3r16tPBfGiX/WBO+texioqK8MSoelccu4tRxIq5syar83UNUkMIHfnuWI9G2ONr1ZHvBQQFxcTE/qXJuPyycOHCmJiYHm+oe1QHvgKBXgnQ7pC97oUfgQCrCHCLGFGp1EuXLklLS6elpfVgffr0aWziHNpV+vUGLy9vbGxsr3Mg9Uit+1daOt1/HNT26tWrQYzYXYxinY1naKuRyWSEkKioKIlE8g/c3H8ziIiMJpPJNjY2/9JkvH5pamrqvzqwFwj0SoD+O2SvycKPQIBOAtwiRp8+fcrKypKVlS0vL++BrLW11c/PD/u7RbtQe2zMmTPnl19++fz5c49z+/9KS6T/w/rZC52v2b3zdayzib62Ota6pk2bFhAQMGLEiJEj5e/e73NarF9v3NTR0SUQCAcOHOinbcAuIMDuBOi/Q7I7ASg/PglwuBgpKCgkJydXVFQ4OTmJi4vb2dm9ePHi60g0NTUtWLCAdpX22Bg1atThw4e/Puubv9DS+eaRfR3AnWI0d+7cznmMJMSq8tl1HiOsj1HcGpPJ41WJRCJCSFdXt7a2trGxcd68eQghG5ulf//dy+Jojx49tlxiRSQSdXR04P1UX9cF/M4ZBOi/Q3IGB6gF3ghwshgdP37c0NBQu+uzePHigoKCN2/e9BWAxsbGsLAwFRUVcXFxfn5+Pj4+CoUycuRICwuLIU8nQ/9lz51ixO4zX2e4z89wM453WaA/aRxmRaNGjaqrq8Pa3r179xBCZDJ5oemi67/eoDXIjo6Om7fuWNssQwgJCQnRjqcdABtAgMMI0H+H5DAgUB2cEOBkMRoC4jt37mzfvj0sLCw4OHjbtm2nTp0abL+i7pnSf9lzoRi1tLRoamoihFRGj2LfJUG2rJinoSyPEOLh4dHR0amtre3eMI4cOaKsrEwmkxUUFGyW2m4KCAoKDlmx0lFCQoKXl1dNTe3UqVM95pXofjpsAwHOIED/HZIzOEAt8EYAxIiBEaH/sudCMbp169aYMWMQQo72S9lRjDLcFwQ4GGuO7RxOSCQSzc3NHz9+/HUju3btmpeX15QpU2RlZbGnSnJyclpaWi4uLhcvXux1UuyvE4FfgABbE6D/DsnW1YfC45YAiBEDQ0P/Zc+FYnT27FkFBQWEkO/aNewoRpscFoxTUUII8fPzW1lZ3bt3r68W1tDQUFdXV1RUFBMTExERUVxcfPbs2X7e9vaVDvwOBNiUAP13SDatOBQb5wRAjBgYIPovey4Uo4KCAmwBjdiQjewlRhmei1yWGMnLjsA6Cfn6+j548KCjo4OBLWxISVt2fYZ0KpwEBIaTAP13yOEsDaQFBP5LAMTovyQY8P/0X/ZcKEabN2/GJkLcmRLORmKU4mnhtMRYWlICsyJ/f/9nz54Ndn4HBrRBSBII4JcA/XdI/NYNSsbOBECMGBg9+i97bhOj1tZWBwcHjFtNUQK7iFGy5+L5BjrYZEW8vLxhYWEMbFWQNBDgFAL03yE5hQTUA18EQIwYGA/6L3tuE6Pffvtt1qxZCKHFZqZsIUY53ovDVi+apq2BDUBTUlI6duwby30wsMFB0kCArQjQf4dkq+pCYdmGAIgRA0NF/2XPbWJ04sQJbEiav7c7/sUo03uJn938iRpqWFdrAwODCxcuMLA9QdJAgLMI0H+H5CweUBu8EAAxYmAk6L/suUqMPn78mJ6ezs/PjxDKi92MczFKXme11Hi6rIwMQkhERMTZ2fnGjRsw+RADLydImuMI0H+H5DgkUCFcEAAxYmAY6L/suUqMnj9/7urqihAar6FxNH8rbsUo39c63MVST0tdUEAAISQrKxsfH//XX3/hcAAaAxs3JA0E6CZA/x2S7iJAAkCgFwIgRr1AGa6f6L/suUqMfv75Z11dXYTQKvulJwvj8SlGub42Pg4Lx6mOJnWtgCYtLX3o0KH3798PV5uBdIAA9xCg/w7JPaygpswkAGLEQNr0X/bcI0YdHR179uzBiMVt9q4uSsShGOX4LLVaOIcWVgMDg/r6egY2IEgaCHA0AdqlxNG1hMqxHwEQIwbGjM7L/tWrV9wjRu/fv3dxcUEITdDQ2J8efqY4CVdilL/RNsJtyVSdydjoM3Fx8dDQ0NbWVga2HkgaCHA6ATrvkJyOB+rHMgIgRgxET+dlz1Vi9Ntvv40Y0Tln9HJr8+M74/EjRjsC7JO9lzouNhwhLY2NPjMyMqqsrKRndWEGtjlIGgiwDwE675DsU1EoKZsRADFiYMDovOy5Soy2bt2KEJKWktrq73GmOAknYpS7ycFr2XydieqCAp1j5eTk5AICAm7dugWLvDLwsoGkuYYAnXdIruEEFWU2ARAjBhKn87LnHjH68OGDklLnwqv6upP3Z0XXliTjQYwSNzhYzNWTkepc5QMhZGhoWF5eDou8MvCCgaS5jACdd0guowXVZR4BECMGsqbzsuceMcrOzkYIiYqIrHOyqylOZrkYFW529HW2lZEU4yOTOwsmKrply5ZHjx7BNEUMvFogae4jQOcdkvuAQY2ZRADEiIGg6bzsuUSMGhoaREVFEUITx6mVZkTXlqawVoyivVeMH6dGIBCw8Onp6V28eBHenTHwOoGkuZUAnXdIbsUG9WY4ARAjBiKm87LnBjHq6OhISkrCOjWvc15euyeVVWJUFOqc6rfCwcJYQlwcIUQgEBQUFMLDw58/f87AJgJJAwEuJkDnHZKLyUHVGUsAxIiBfOm87LlBjO7duzdx4kSEkIqy0p7MaJaIUXG4a9qmVastDdVUx2AhGz16tLW19cWLFxnYOCBpIMD1BOi8Q3I9PwDAKAIgRowiS6VS6bzsOV6MmpqagoODBQUFEULerqvO7U1jshiVRrpnBDivtpijpzMJC5aoqKipqem+ffsaGhoY2DIgaSAABOi+QwJCIMAgAiBGDALbmexwiZG6uvrPP/98l7M+f/zxR1VV1YQJExBCk7S0qgoSmClGe6PXZge7rjA3nKg+htzVw5pEIs2dOzcnJ+fPP/+ETtYMvCogaSDwXwJ03iH/mwz8PxAYZgIgRsMMtHtydF72tCdGZDJ5zJgxKpz10ev6kEgkhFB6TPC5velME6NdEZ5OyyzkpCUE+DtnJ8ImKMrLy3vy5AlMZt29AcM2EGAoATrvkAwtGyTOzQRAjBgYfTov+3fv3m3atImWCIdtEIlEXl5ehJC1pfnZPenMEaPimHWb3FcK8JF5u4QMISQhIREeHv7+/fuPHz8ysClA0kAACHxFgHZP+2oP/AAEWEkAxIiB9Om/7K9du+bt7W3HcZ9Zs2YJCAgghORHjixKDju/L4NxYlQZ77Nnq3dGkIur/ZIR0lJYUMhk8ujRozdt2vTo0SMGtgBIGggAgb4J0H+H7Dtt2AMEhk4AxGjo7L55Jlz2vSJqbGy0s7NDCAlRKBtcV9aUpjFIjCoT/XZHe2/1XmG32GTkSDksHEJCQhMmTPD09Pzll196LR78CASAAHMIwB2SOZwhl8ESADEaLLFBHA+X/dew2traoqOjsYmLrM0WHMiLu1CWObxidDg1YF/CxvTgtWvtFhkaTBMTE8MCISUlZWJiEhcXd/Pmza8LBr8AASDAZAJwh2QycMhugARAjAYIaiiHwWX/NbWioiIKhYIQUlNRLkwOP1eWObxiVLhtY7DXqvkzp6mrKmNv6xBCI0aMcHNzKysre/DgAfQl+joo8AsQYAkBuEOyBDtk+k0CIEbfRDT0A+Cy78HuzJkzmpqaCCFJcbFI/3Vn9mZc2J81LGJUkbo5YfO6ldZmqkoKI6SlsMFuCCENDY2goKDLly+/ePEClvXoEQ74CgRYSwDukKzlD7n3RQDEqC8yw/A7XPbdId68eVNfXx9bgyzIZ+25suxOK6JPjL7LCc2J3uS83FZltBIfH5lEJGLMeXl5586dW1VV9fbt27a2tu7FgG0gAARwQgDukDgJBBSjBwEQox5AhvMrXPYYzY6OjgcPHixduhQhxMNDXG679My+rLrynEGLUUHMse1Rh7PDy5KD4gI9XR3tJ2tr0yDz8fFJSEioqKhERkbeunVrOAMJaQEBIMAAArSLlwFpQ5JAYOgEQIyGzu6bZ8JljyF6+vSph4cHLy8vicQ7dcqks2XZP1TkDlyMTu6MPZwbvTc1NDfS5//bOw+wKK61j5+t9CILSBWwgEgXAQFRRMRKRymKiBSlREApolJEehGWLlEDKKACgiZq1AhGNOa7j8YrRCWx3WgiXu81umABruj3wdzsZxQIyg7M7L77+PgMszPvec/vPefMf8+csiXI29PFXmeGNrYGEkKITqcrKysbGxuHhIQ0NDR0dXX9ZVzgAiAABIhAAFpIIkQBfPiQAAijD5nw7AxU+7dv3z5+/DggIIDBYDCZTJu5FlUFKRdri0cijI7uTv0ie3tuXNhnPm4uSxfMMTdVVVHhIqXT6VpaWg4ODlFRUXV1dffv34d9PHhWcMEQEBgTAtzqPCapQSJAYKQEQBiNlNQnXAfVvqOjw8/PD+vdMdCdsTcn8fyh4qGE0emKnENFKWUZ29NjN65YMs9u7mzTmQbTpk7hTi7DJvkbGxuvXbs2JyfnxIkTd+7cgSFEn1Ay4RYgQAQC0EISIQrgw4cEQBh9yIRnZwS82l+/ft3R0ZE2MCBaW3NqfnLst4eLL9aWYMLo24OFx/blVLCT2clbt4YHr/Naoac1edpkNTVV5YnyctgYbS5AJSUlJyenjIyM06dP37hx4/Hjx9A/xLNiCoaAwDgR4FbwcUofkgUCgxMAYTQ4F56cFeRqf/nyZUtLSyqV2r+MkJxsenzMntyUjMQtyduifFZ5Oi1fKi4qIioiLCIsJCwkxOwfftS/m+y7HxaLZW9vz2az29vbORzOixcvent737x5w5PQgBEgAATGnQC3vo+7J+AAEHiXAAijd2nw+Fhgq/2lS5f09fW52R/qgEKh0Gg0ISEhYWFhcXFxBQUFCwuL8PDw2trau3fv8jgYYA4IAAGCEeC2DATzC9wRdAIgjHAsAQJb7RsaGmRkZLjZp1KpEhISUlJSSkpKampqOjo6RkZGFhYWzs7OwcHBxcXFtbW1bW1tL1++xDEYYBoIAAGCEeA2EQTzC9wRdAIgjHAsAQJb7a9fvx4SEmJvb+/t7e3j4xMQEJCYmJiWllZZWdnQ0HDlypWff/6Zw+HgiB5MAwEgQHgCAttCEj4ygu4gCCMcS4AgV/uuri4YIo1j2QLTQID8BAS5hSR/9Pg5ByCMcIwuVHsc4YJpIAAESE4AWkiSB5Bv3QdhhGNoodrjCBdMAwEgQHIC0EKSPIB86z4IIxxDC9UeR7hgGggAAZITgBaS5AHkW/dBGOEYWqj2OMIF00AACJCcALSQJA8g37oPwgjH0EK1xxEumAYCQIDkBKCFJHkA+dZ9EEY4hhaqPY5wwTQQAAIkJwAtJMkDyLfugzDCMbRQ7XGEC6aBABAgOQFoIUkeQL51H4QRjqGFao8jXDANBIAAyQlAC0nyAPKt+yCMcAwtVHsc4YJpIAAESE4AWkiSB5Bv3QdhhGNoodrjCBdMAwEgQHIC0EKSPIB86z4IIxxDC9UeR7hgGggAAZITgBaS5AHkW/dBGOEYWqj2OMIF00AACJCcALSQJA8g37oPwgjH0EK1xxEumAYCQIDkBKCFJHkA+dZ9EEY4hhaqPY5wwTQQAAIkJwAtJMkDyLfugzDCMbRQ7XGEC6aBABAgOQFoIUkeQL51H4QRjqGFao8jXDANBIAAyQlAC0nyAPKt+yCMcAwtVHsc4YJpIAAESE5gjFvInp6eU6dOVVVVnT179unTpySHB+7jSACEEZ5w/6j3OKYBpoEAEAAC5CTwRwM5Ro+huro6SUlJbqIsFmvOnDleXl6ZmZmNjY1Xr169ffv2w4cPORzOf/7zH3ISBa95Q2CMSuSnOcstwZ92+7jfRXb/xx0gOAAEgAAfExjjFrKpqUlTU5NCoXDTfe/AyMho5cqVcXFxlZWVzc3Nra2tDx486O7u5uMQQNYGJQDCaFAsvDnJrXW8MQdWgAAQAAJ8RGCMW8gnT57s3r1bS0sLS1dISMhQX89ytqmBvp6wsDDXGexAUVHRzMzM1dU1Ojq6qKjozJkzv/zyS19fHx/hh6wMSQCE0ZBoRv8Ft6aN3hRYAAJAAAjwGYGxbyFfvnzZ3NxsZGSEEKLT6RazTXclxVYVpGRv/WzbRr8Ab3eHZYuna2kJCQlxfaNQKBISEtOmTZszZ46Hh0dWVlZzc/O///1vPosFZOddAiCM3qXB42Nu1eKxXTAHBIAAECA/gXFpIV+/fn3t2jVNTU2EkJCQkP1i26P7ci7Wlnx7qOjMfvZX+3IOFiSVpEQnbA4K9Fk118qS6yRCiEqlSktLT5o0ycTEJCgoqL6+/vfffyd/HCAH7xMAYfQ+ER7+za1RPLQJpoAAEAAC/EFgHFvIp0+fYtoIIeS/2v3MgfyLtcUXDhe3HCo6f7Cg/19N/rfV7HNVecf3ZRWkbt8Y5K+trT3o+KQlS5bs37//yZMn/BEUyMXbt29BGOFYDMax2uOYKzANBIAAEOAFgfFtIX/88UczMzM6nY4Q8vFwPXewcFBhdK4qt/nArub9Oc2V2bXFKZnxm12XL1JTVpgoLyshIcHNgpiYmJWVVWFhYWtr62+//QZDtnlRQMbNBggjHNFz6wyOaYBpIAAEgAA5CYxvC/n69eumpiYTExOsHyh+c3BzTeGHPUbvCqOzFVnflGd880V6Q8lOdlJU6DrP2YYzNKdoyLJkuHlhsVhOTk6lpaUXLlzo6Oh4/fo1OYMj0F6DMMIx/NyqgmMaYBoIAAEgQE4C495C9vT0NDQ0aGlpUSgUSUmprPjIczWF771KG1QYndmXdmZf2qm9KcdKdpalxmwL9XFcaGU+y0hcTAzLFI1G09DQ8PLyysnJ+f7771+9ekXOEAmo1yCMcAz8uFd7HPMGpoEAEAACoyNAhBby5cuX+fn5LBYLIWSkr/d5dsJHCaNTe1K+/nznybKkI4Xxe1OjYgLcV9rbzTaZyc2ahISEqampt7d3dXX1w4cPRwcM7h4jAiCMcATNrRs4pgGmgQAQAALkJECQFrKzszMxMREhRKPRrMxN6ssy3x18PXyPESaMvi5LOrl7x8nSxOPFCfXsbfszIlMifNe4O01SVcHySKFQ5OTkjIyMIiMjr1+/DushEbzAgjDCMUAEqfY45hBMAwEgAAQ+lQChWsh58+YhhERERPy83L6uzOPOSvsoYXSiJOFEcfzxou1fFW77smBrbe6WnVEh8+dacXOKHbi6ujY3N38qNrgPdwIgjHBEzK0MOKYBpoEAEAAC5CRAqBaSw+FMmjQJIaShrp4TF3Gumo1N1x+NMDqWH3uMHXuUHVO0I8JnpRNLWlJUVIRKpWIZt7S0rK2tffToUXd395s3b8gZQ/70GoQRjnElVLXHMZ9gGggAASDw8QS4LST+t1YlAAAgAElEQVTRDkyNDQ8V7uShMGrMjW7YFfVFSsQmP485s/TVVJWxLNNoNENDw9zc3O++++7FixcfjxDuwIUACCNcsGJGubUdxzTANBAAAkCAnAS4LSRxDqhUKo1GQwiFB67hrTBq3BXVkBN5JHtTZWp4csS6heaG2tOmCAn179HGYDD09PTi4uJaWlpAHhGhLIMwwjEK3NqOYxpgGggAASBATgLcFpI4B7Kysurq6gghJSXFiryd56ryePIqrTE3miuM6rMi6rPCa9LCdkX5+7stmW1sKCYqihHQ1dUNCgpqaWmB6f3jW6JBGOHIn1vbcUwDTAMBIAAEyElgzFrIqyP+/Pjjj3l5eQoKCgihZYsXnanchZMwqssIq03fWJMa+nlcYEyAu7mJMUaDwWCoqqquWLHi6tWr5IwqP3gNwgjHKI5ZtccxD2AaCAABIIAPAWK2kI8fP/b09MTeqWXER+MojDI21qZ/djgttCYlpDJxfeom33mW5hgTGo0mLi4eFBT066+/4sMerA5HAITRcHRG+R0xq/0oMwW3AwEgAAR4QoCwLeTJkydVVVURQrra00/szeLulcbdEoS78vV76xi9N12fOyvtw1dp/T1GfwijQ6khh1KCDyYHVe5Yn7hxjZmRnoSYKLZRiaioaHR09I0bN169egUz13hS6kZiBITRSCh94jWErfafmB+4DQgAASAgAAS6u7vXr1+PEBITE42LWN+0/7+byOItjGp2bqhJWr83PnDbBk8zg+nycnLYQ0RTUzMzM7O1tRV2Xhub0gfCCEfOIIxwhAumgQAQAAK4EWhra5OQkKBSqXPMjOtLUpr35zRXZo+NMKreEViVGLB7m3+4t7Oxnpa0lBQ2c83Gxqa0tBT2FcEt5v9vGITR/7Pg+REII54jBYNAAAgAgbEhEBYWhhCSZclsCV479sLoQIL/gXi//Kg1Ie5LjHSnM5lMhJCoqKijo2N1dXVXV9fYQBDMVEAY4Rh3EEY4wgXTQAAIAAE8Cdy6dUtEpH+h6kXWlkd3p41xjxEmjPbH+e7btjZro4ePs52khDhCiEKhqKio+Pv7t7W1wZs1nOIPwggnsP1mQRjhCBdMAwEgAATwJPDmzZugoCCE0BQNjaKkyPESRpVxayu2++yLXZMb4em4xBZ7rNBotEmTJuXn5/f29uLJQEBtgzDCMfAgjHCEC6aBABAAAjgTuHTpEvYOy9/L+dS+zLEcY8TtMcKEUcW2NRVbvctjVyeFeBjrzRARFsKmrVlbW//tb397/vw5ziQEyzwIIxzjDcIIR7hgGggAASCAM4F//etftrb9nTTz5lgcKdpJBGG0L8Yrf5Ont6OtxiRlBp2OEJo4cWJycvI//vGP//znPzjzEBTzIIxwjDQIIxzhgmkgAASAAM4Euru7s7OzaTSanKxsaXLUN+WZ35RnfPNFOk7rGGHT9bFZaUP1GO2L8doX7VkW5ZkQ4GJnYSQpKYEQEhYWtre3r6+v7+zsxBmJQJgHYYRjmEEY4QgXZ9M9PT2nTp2qqqo6e/bs06dPcU4NzAMBIEBQAufPn9fQ0MC2lT21L4MgwmhvlMfeKPeCCHc/BysDHS2EEJVK1dTUjIuL6+joIChK8rgFwgjHWIEwwhEuzqbr6uokJSW5EWSxWHPmzPHy8srMzGxsbLx69ert27cfPnzI4XCg+xrnUIB5IDCeBO7du+fu7o4QmmNhfvzzVEIJoz2RK8s2rUjb4LzCzmKifP9qkGJiYvPmzWtsbBxPZORPG4QRjjHkPlZxTANM40OgqalJU1MTG97IjeO7B0ZGRitXroyLi6usrGxubm5tbX3w4EF3dzc+7oBVIAAExodAd3d3cnIyQohGpe7fFU80YbRn84qyCNfiMJet65y0p03G2ihJScmEhIQXL16MDzLypwrCCMcYcp+jOKYBpvEh8OTJk927d2tp9fdRI4SEhIQM9fUsZ5sa6OsJCwtzI4sdKCoqmpmZubq6RkdHFxUVnTlz5pdffunr68PHNbAKBIDAmBKoq6tTVFT8v9dVSTFhxBRGZREuu8NdskLcLGbqCg0sBUmj0ZYtW9be3g5rHX1CWQFh9AnQRnoL9/E50hvgOiIRePnyZXNzs5GREUKITqdbzDbdlRRbVZCSvfWzbRv9ArzdHZYtnq6lJSQkxA00hUKRkJCYNm3anDlzPDw8srKympub//3vfxMpW+ALEAACH0fghx9+MDExQQh5uLkQWRiVhjkXbXQO8liuMlGWwWAghPT19evr6zkczsdlWOCvBmGEYxHgPi9xTANM40ng9evX165d09TUxDqN7BfbHt2Xc7G25NtDRWf2s7/al3OwIKkkJTphc1Cgz6q5VpbciGNjIaWlpSdNmmRiYhIUFFRfX//777/j6SzYBgJAABcCT58+dXFxQQipqamd/oIQs9Kwwdd7Ildir9KwHqPSMOfSMMeSjY47AhytTXRZMhMQQiwWKzo6+u7du7ig4VOjIIxwDCz3MYljGmAafwJPnz7FtBFCyH+1+5kD+Rdriy8cLm45VHT+YEH/v5r8b6vZ56ryju/LKkjdvjHIX1tbe9DxSUuWLNm/f/+TJ0/w9xpSAAJAgGcEwsPD6QOLBh0uSibCdP3hhVFxqEPG+uXeS+coyLGwDWhdXFzOnj3LMxz8bgiEEY4RBmGEI9yxNf3jjz+amZlhLaOPh+u5g4WDCqNzVbnNB3Zh+03WFqdkxm92Xb5ITVlhoryshET/ciPYR0xMzMrKqrCwsLW19bfffoMh22MbTEgNCHw0gYKCAqmBXe6zEqLIIIzsi0OXs4OWh7kv0NSYRKVSKRSKjo5OeXl5T0/PR2de8G4AYYRjzP94DhIaMo755yPTr1+/bmpqMjExwfqB4jcHN9cUfthj9K4w4i6S21Cyk50UFbrOc7bhDM0pGrIsGW7BYLFYTk5OpaWlFy5c6OjogGGSfFRkICt8RaCurm7ixIkIobjIULIIo6KQZfnBS3f4Lra1mo3tPisnJ5eZmTmSIUdPnjy5fPnypUuXHj58iHcgnz9//q+BT1dXF0HmrBD6mc19fuAdGJzsk91/nLCQ1GxPT09DQ4OWlhaFQpGUlMqKjzxXU/jeq7RBhRF3kdxjJTvLUmO2hfo4LrQyn2UkLiaGlRAajaahoeHl5ZWTk/P999+/evWKpIjAbSDArwRu3rw5depUhNC61R4kEkaFwUsLg5YUbFjs5bgI2z8EIRQYGPjPf/5z0Eg9e/assbHRxsZGVFSU2zqZm5tXVVU9e/aM56rl3r175eXl27dvDxn4bN26taam5vbt24P6NpYnQRjhSBuEEY5wx8P0y5cv8/PzWaz+1/ZG+nqfZyd8lDA6tSfl6893nixLOlIYvzc1KibAfaW93WyTmdxyIiEhYWpq6u3tXV1dPQY/1MYDIaQJBEhJ4NGjR9ra2gihuRZmZBRG7MBFwa7zJ8pIUqlUhNDixYuvXr363uK0N2/exJaylJKSmj5d28jIyGjmTG3tGSwWi06nOzg4tLa28kob9fb2Hj16dNmyZe+uo4sQkpeXt7Gx+eqrrz4sJRwOp7CwMDMzk7u0N4fDKSsry83N5Z758K5POwPC6NO4jegu7gNvRFfDRWQg0NnZmZiY2L/aG41mZW5SX5b57uDr4XuMMGH0dVnSyd07TpYmHi9OqGdv258RmRLhu8bdaZKqClZgKBSKnJyckZFRZGTk9evXedUSkYEu+AgEiEvAwMCgf8dW2QlkFEb5gXZ5AXZhrnP1pqkLD6wwoqWldfz4cW7/9O3bty0tLRkMpr6+QXx8woWLl36+dfv27TvfXfqf9IxMAwNDOp3u5OT0008/jT5Cr1+/PnbsmKGhIabSuA9K7oGWltbRo0ffS6inp4fNZquqqh4/fhwbdXDlypXp06fjsZQlCKP34PPyT26YeWkUbBGAwLx58xBCIiIifl5uX1fmcWelfZQwOlGScKI4/njR9q8Kt31ZsLU2d8vOqJD5c624xQY7cHV1bW5uJkCmwQUgINAErKys+n+0sKS/LEvlvh9/79fOe5X6WH7sMXbsUXZMY250466ohpzII9mb6rMi6rPC6zLCajM21qZ/djgt9FBqyKGU4IPJQSPfRPavZqX1D74uClnGfZWWH2jHDlyYF7AwbpWNnYURc2CVo6lTp5aUlHA4nM7OzsDAQISQ3aLFzee+ffHi5buRfvXqVUvLhQULbGk0moeHB1dLvXvNRx3fuXPH1tZ20Hm73NZPT0/v/v3775m9fv364sWL161bh70KDAwMnD17dnt7+3uXjf5PEEajZzikBW6Mh7wCviAnAQ6HM2nSJISQhrp6TlzEuWo2Nl1/NMKI24YW7YjwWenEkpYUFRXh/qKytLSsra199OhRd3f3mzdvyIkNvAYCJCbg5eVFo9FYE6QPFiSRVBixA2zz/Bckr7V1mG+KPZ7U1NSSk5NramqwjXJPn/nmvfdrWMBev+47dfqMsrKKiIjIuXPnRhPFnp6eL774gvtwHOpAXFw8MzPzw7auoqJCTU3t1KlT9+7dk5aWzsrKGo0zQ90LwmgoMjw4P1TI4TzpCDR88AkODsZyYWpseKhwJw+FUWNudMOuqC9SIjb5ecyZpa+mqowlRKPRDA0Nc3Nzv/vuO9gFiQf1E0wAgY8h4OfnNyCMpKrzd5BaGOX522SuW+DnbDNhQv8KkKKioioqKkwm03edX29v71BIent7g4ND6XR6alr6h9dcHfGnpaXFzc1tJI+AFStWdHZ2vpfWb7/9tmzZMk9PT29v7wULFuC0JhwIo/ew8/LPkcQeriEvASqVSqPREELhgWt4K4y4ve6VqeHJEesWmhtqT5siJNS/RxuDwdDT04uLi2tpaQF5xMvqCraAwLAE+EkY5frZ7Fo3f6PrXDmWDJVCwRrhuiPvD+t5j8ehw/UiIiIyMqxVq9e892/KiD/q6uoiIiIjafYXLVr04MGD93x4+/ZtTU2NmprahAkTTp8+/eG3PDkDwognGAc3MpLYwzXkJSArK6uuro4QUlJSrMjbea4qjyev0j4cjlCTFrYryt/fbclsY0OxP6bR6urqBgUFtbS0jP6V/+DFF84CASDwDgH+E0ZZa+cHOlmrKithjfBXx79+J7uDHF64eEnsj0VGxqDdHkoYcTgcXV1dQ0ND/BarBGE0SPjhlCATGHGX8NUff/wxLy9PQUEBIbRs8aIzlbtwEkb94zTTN9akhn4eFxgT4G5uYoy1SgwGQ1VVdcWKFVevXhXkkEHegcAYEOA/YZSwytrK6P+3wT765fHhMTYe/UpEVFRaWnrRB5/cEX9SU1OxHXn/Ulo5OTkN9abMwMDA1tZ2eG9H8y0Io9HQg3sFncDjx489PT2xd2oZ8dE4CqM/JrDUpIRUJq5P3eQ7z9Ica1loNJq4uHhQUNCvv/4q6PGA/AMB3AjwmTBK9bW1MNBkMpkIISkpKTqdHhm9ZXh4CYlJTCbT1dX1wQef/4z48/z58+Li4r9URQwGIyIi4sPB15iHIIz6AQ4fLfgWCIwjgZMnT6qqqiKEdLWnn9ibxd0rjbslCE7jNCt3rE/cuMbMSE9CTBSb+CoqKhodHX3jxo1Xr14N1aCMIyhIGgiQmgA/CaNUXztzAy1MFZmamkZFRcnLyyspKd/86eehYvT3a63GxrMoFEpdXd1Q14zw/LVr16ZPnz68NtLQ0Pjuu++GMgjCCITRUGUDzhOCQHd39/r16xFCYmKicRHrm/b/dxNZvIURtuTJ3vjAbRs8zQymy8vJYQ2NpqZmZmZma2sr7LxGiPIBTvALAWtr6/51jGSkG0vJuo4RNl0/bZ2d0Yyp2MSRWbNmNTc3d3V1LViwACHk6ur222+DbI52794vjk7ONBrN2Nh49Jtev3z5Mjs7G5sTN6g8kpaWjouLG6bg+Pn5bdq0aZgLRvkVoTtjuMhGmUm4HQjgSqCtrU1CQoJKpc4xM64vSWnen9NcmT02wqh6R2BVYsDubf7h3s7GelrSAxuAMxgMGxub0tJS2FcE17iDcYEiQPaVr9mBC9kBtul+i8wNp2OqSFVVtaWlBQtie3s7QojJZC5esvTq369xI9vX19fadt3FdQVCSFxcnHs994JPO+jo6MjMzNTR0flwmccZM2ZkZmaO75wSEEafFla4Cwj8iUBYWBhCSJYlsyV47dgLowMJ/gfi/fKj1oS4LzHSnY71kIuKijo6OlZXV3d1df3JV/gDCACBjyTw6tUrPT09hNAUdVXybgmyddUCbY3+ddGoVKqxsfF7S+ofPXpUQ0ODyWSqqKi4uq3cHBUTE7tt1WpvGRkZBoOhqal56tQpHvZDd3V1nT59OiYmZuHChVOmTJkxY4atre2mTZtOnjw5+k6pjwzv+5eDMHqfCPwNBD6BwK1bt0RE+heqXmRteXR32hj3GGHCaH+c775ta7M2evg420lKiCOEKBSKioqKv79/W1sbD1u0T+ADtwABUhNoa2ubPHkyQsjbw42MwogduCjK01ZvWv96/TQabfny5b/88suHEfnhhx+Cg4NnzpypoKCA9SopKirq6+v7+fldvHhx0EWxPzTyUWe6urru3r179erV1tbWO3fudHZ2EmF8JAijjwoiXAwEBifw5s2boKCg/h+UGhpFSZHjJYwq49ZWbPfZF7smN8LTcYkt9jKaRqNNmjQpPz9/mGVtB88VnAUCQGCAQFNTk4pK/zbP4RvWkVEYbfZcNH2KGkJIWFjY2dl5mP3FOjs7W1paysvLd+7cmZCQUFFR0dTUNNS0eX4tHSCM+DWykK+xJnDp0iXsHZa/l/OpfZljOcaI22OECaOKbWsqtnqXx65OCvEw1pshIiyEvci3trb+29/+9vz587FGA+kBAZITKCsrwwYLp27bRC5hxA5a6udko6wgjw0SCg8Pv3XrVl9fH8kDgq/7IIzw5QvWBYfAv/71L1vb/k6aeXMsjhTtJIIw2hfjlb/J09vRVmOSMoNORwhNnDgxOTn5H//4Bx694oITa8ipoBHYsmWLkJAQQmhPTjyJhFFOkP1aJ1s5lgymiiIjIx8+fEiEd1UELz8gjAgeIHCPNAS6u7uzs7NpNJqcrGxpctQ35ZnflGcQoQ0ti/JMCHCxszCSlJTA+tLt7e3r6+s/3KCRNKzBUSAwhgS6u7s9PT2xF9MEqdR7ozz2RrnviVy5Z/OKsgjXsgiX3eEupWHOpWGOJRsdi0Pti0OXZwc5LLQ0xrqxGQzG8BPgxxAnCZICYUSCIIGLZCFw/vx5DQ0NbFvZU/syCNWGFkS4+zlYGehoYXNSNDU14+LiOjo6yMIW/AQC40Xgxo0bVlZWCCGHZUsIVamHEkZFoQ5xPktNDbSxyq6mpnb8+F9s9zFebImZLggjYsYFvCIlgXv37rm7uyOE5liYH/88lWhtaNmmFWkbnFfYWUyU718NUkxMbN68eY2NjaRkDU4DgbEicPLkSWxKWmRoINEq9Yc9RvmhThHuC3W1NbHuYUtLy/Pnz48VKj5JB4QRnwQSskEEAt3d3cnJyf0TYqnU/bviidmGFoe5bF3npD2tf+4xQkhSUjIhIeHFixdEAAg+AAGiEejt7c3LyxMWFv6/IXolqVuIWam5r9KyQ5zdbGcrTJyIVW1fX99r167BUh0fW6hAGH0sMbgeCAxHoK6uTlFR8f96sJNiwojchmaFuFnM1BUa2EKSRqMtW7asvb0dGtDhQgvfCSSBjo4Of39/hNAMbe1jpcmErdSl4S7xfo5m+lqiIiIIIQUFhfT09F9//RUmoH1CsQVh9AnQ4BYgMCSBH374wcTEBCHk4eZC2DYUG6dZtNE5yGO5ykRZBoOBENLX16+vr+dwOEPmDb4AAoJH4PLly7NmzUIIrfFw+3pvOjErdXG4a5jn4ulT1ek0GkJITk7uyJEjUJc/ubSCMPpkdHAjEBiEwNOnT11cXBBCampqp78gxKy04Sew7AhwtDbRZclMQAixWKzo6Oi7d+8OkjE4BQQEj0BfX9+BAwewl85pW0LPEGaq6buVuijMzXnxPMxJhJClpeWzZ88EL1a8zDEII17SBFtA4O3bt+Hh4fSBRYMOFyUTYbr+u23oYDN7HTLWL/deOkdBjoUQYjAYLi4uZ8+ehVACASDA4XD8/PwQQjra2gfz4gmyONm+aE+sUpduWpkQ4GRibITNPpswYcL27dvHfaMxPig2IIz4IIiQBWIRKCgokBrY5T4rIYoMwqh/yRN20PIw9wWaGpOoVCqFQtHR0SkvL+/p6SEWWfAGCIwtgRs3bsjL968Z7eWy/MSedOIIo8+jPLJD3bwd5svL9c8wFRYWtrGxqa2tffny5dgS4s/UQBjxZ1whV+NIoK6ubuLArJC4yFCyCKOikGX5wUt3+C62tZqN7T4rJyeXmZk5kmEKT548uXz58qVLlx4+fDiO2CFpIMBzAtgkUzlZ2eTI9WcrsggijIo3ewavWGisqyUq0j9XTlFRMSoqqq2tDZaz51UBAGHEK5JgBwj8l8DNmzenTp2KEFq32oNEwqgweGlh0JKCDYu9HBdh+4cghAIDA//5z38OGtpnz541Njba2NiIiopi4xtoNJq5uXlVVdWzZ89gLsyg0OAkiQi8ePFCTa1/41XzWUYHC5LGd2do7gaImRs97a3NJsr27/KBEJo/f/6hQ4cEbZNXvEsRCCO8CYN9gSPw6NEjbe3+NWfnWpiRURixAxcFu86fKCNJpVIRQosXL7569ep7P0Zv3ryJLWUpJSU1fbq2kZGR0cyZ2tozWCwWnU53cHBobW0FbSRwRZ+/MlxYWIgQkpKUDFnr/k1F9rgLo71bvMN9V05kSWOrbEhJSW3duvXevXuwygbPyx0II54jBYNA4K2BgUH/jq2yE8gojPID7fIC7MJc5+pNUxce2DhTS0vr+PHjr169wkJ7+/ZtS0tLBoOpr28QH59w4eKln2/dvn37zneX/ic9I9PAwJBOpzs5Of30009QFIAASQl0dnZiIwV1p2vuZyc1788ZX2GUFLpqxnRNCoWCdRSZmZldvHjxvZ8rJEVNQLdBGBEwKOAS6QlYWVlRKBQ5lvSXZaln9qWd2Zd2am/KqT0pX3++8+uypJO7d5wsTTxRknCiOP540favCrd9WbD1WH7sMXbsUXZMY250466ohpzII9mb6rMi6rPC6zLCajM21qZ/djgt9FBqyKGU4IPJQTU7N9Qkra/eEViVGHAgwf9AvN/+ON/KuLUV2324ve77Yry4E1iG2lYJ22+yKGQZ91VafqAdO3BhXsDCuFU2dhZGzIFVjqZOnVpSUsLhcDo7OwMDAxFCdosWN5/79sWLPw32fPXqVUvLhQULbGk0moeHB1dLkT6ikAFBItDX15eVlYUNag7x9Wo+sGu8hFH5dt9dEas87W1lJvQvqEGhUFRUVOLj42GXQ1zLIwgjXPGCcQEl4OXlRaPRWBOkDxYkkVQYsQNs8/wXJK+1dZhviv1IVVNTS05OrqmpwTbKPX3mm0F/sL5+3Xfq9BllZRUREZFz584JaAmAbJOZQHt7u66uLkJoiobagfykcRFGFfH+uZvX+DjO15z639171NXVXVxcLl68SGa05PAdhBE54gRekouAn5/fgDCSqs7fQWphlOdvk7lugZ+zzYSBH6yioqIqKipMJtN3nV9vb+9QQent7Q0ODsXkFPwPBMhF4O3bt7GxsdiUglD/NeeqcsdYGO1PDGRH+frYzzMzNsTQSUlJLVmypLq6urOzc6hKB+d5SACEEQ9hgikg8F8C/CSMcv1sdq2bv9F1rhxLhvrHEIe6I0eHD/ahw/XkehyCt0AAI/D27VsdHR2EkKG+fmNZxlgKo6qkDYWx/quWz9fVmswc2MeQTqdbW1sXFRXdvXsXBlkP3+bw8FsQRjyECaaAwH8J8J8wylo7P9DJWlVZCXt4fHX86+GDfeHiJXjQAgEyEnj79i22cn3ezthzVXljJoz2JQStXWGvKCcjIty/OhG2QFFJScn9+/dhMevhWxuefwvCiOdIwSAQeMt/wihhlbWVkZbQwCQ1hNDRL48PH+bGo1+JiIpKS0sv+vNn+LvgWyAwvgRoNBq2p7KL4/KmA3ljI4wqdoZsDlwtIsTkrh8mIyMTHx/P4XCGeWE9vqD4O3UQRvwdX8jd+BDgM2GU6mtrYaCJ9e1LSUnR6fTI6C3Dk01ITGIyma6urg/+/Bn+LvgWCIwXAXd3dysrKxEREYSQspJSeXbct9Vs/IRRbXrYgeRQdoyfv4eTvJws1kXEZDLV1dU3b95879698eIA6b59+xaEERQDIMB7AvwkjFJ97cwNtDBVZGpqGhUVJS8vr6SkfPOnn4cC9/drrcbGsygUSl1d3VDXwHkgQCgCXV1d2Jql4mJiG/1Xf7M/FydhVJsZ8UVSaHLoKncHOyUlRUwSiYuL6+joBAUFXblyhVBYBNMZEEaCGXfINb4ErK2t+9cxkpFuLCXrOkbYdP20dXZGM6bSaDSE0KxZs5qbm7u6uhYsWIAQcnV1++23QTZHu3fvF0cnZxqNZmxsDGMj8C1nYJ1HBHp6epKSkrCFi1yWLaorSTtfk89bYdSwK6o6Y1Ne7IYN7kvnW5pKS0tjkkhWVtbOzi4tLa21tZVHuQEzoyUAwmi0BOF+IPAhAbKvfM0OXMgOsE33W2RuOB1TRaqqqi0tLVhO29vbEUJMJnPxkqVX/36Nm/2+vr7WtusurisQQuLi4tzruRfAARAgJoHy8nIxMTGEkOYUjb3Z8edq8nkrjPambIoNXrNwjqnWVA3sbR1CSF5ePiAgoKam5tatWzCWiFAFA4QRocIBzvADgVevXunp6fWvDqeuSt4tQbauWqCtoYwQolKpxsbGzc3N78bm6NGjGhoaTCZTRUXF1W3l5qiYmNhtq1Z7y8jIMBgMTU3NU6dOwezid4nBMWEJnELDNwMAAA7dSURBVD17FquwrAnSiZEhZ6vY5w8W8EQYHd61JWNLyGqXZVPVVOTlZLHJbgghbW3tmJiY77///tGjR4OukkpYVgLiGAgjAQk0ZHPsCLS1tU2e3L9YrbeHGxmFETtwUZSnrd60SQghGo22fPnyX3755UN8P/zwQ3Bw8MyZMxUUFLBeJUVFRX19fT8/P9jF6UNccIaYBFpbW83NzbE9yGLCNpyrKexXRaMTRl8WbS9K2uzrtXKKupqQEJM+8CYaIcRgMKytrRsbG3///feenh5iAgGvYPA1lAEgwHsCTU1NKioqCKHwDevIKIw2ey6aPkUNG2/h7Ozc3t4+FKPOzs6Wlpby8vKdO3cmJCRUVFQ0NTU9efJkqOvhPBAgDoG+vr5bt265ubkNdIvSvFa6na0uaDlU9NHCqGzn8d07Ggrja7Jj0qKD/L09jAb2kMaGEAkJCcnIyEyZMiUxMbGtrY042QdPhiEAPUbDwIGvgMCnECgrK8M20EjdtolcwogdtNTPyUZZQR4bJBQeHn7r1q2+vr5PoQD3AAFiE3jw4MH69esZDAadzjCZadhUU3jhcPHIhdHXe1IbipOqdm0vTgzbEuTt6WKvM0MbWwMJIUSn05WVlY2NjUNCQhoaGrq6uogNA7z7EwEQRn/CAX8AgdET2LJlC7YQ4p6ceBIJo5wg+7VOtnIsGUwVRUZGPnz48M2bN6MHAhaAANEIPH78OCAggMFgMJlMm7kWVQUpF2uLRyKMju5O/SJ7e25c2Gc+bi5LF8wxN1Ud6B7G+ofodLqWlpaDg0NUVFRdXd39+/dhpB3RQj8Sf0AYjYQSXAMERkqgu7vb09MTayW/Kc8gizDKDnJYaGmMLVbEYDDi4uJGmmG4DgiQjUBHR4efnx/Wu2OgO2NvTuL5Q8VDCaPTFTmHilLKMranx25csWSe3dzZpjMNpk2dwp1chr10NjY2Xrt2bU5OzokTJ+7cuQNDiMhWKP7kLwijP+GAP4DAKAncuHHDysoKIeSwbAkphFFRqEOcz1JTA21sApqamtrx43+x3ccoEcHtQGAcCVy/ft3R0RGbLqCtOTU/Ofbbw8UXa0swYfTtwcJj+3Iq2Mns5K1bw4PXea3Q05o8bbKamqryRHk5bIw29rMHIaSkpOTk5JSRkXH69OkbN248fvwY+ofGMbI8TBqEEQ9hgikg8PbkyZPYlLTI0EDiC6P8UKcI94W62prYr15LS8vz589DFIEAvxK4fPmypaUllUrtX0ZITjY9PmZPbkpG4pbkbVE+qzydli8VFxURFREWERYSFhJi9g8/onNlEHbAYrHs7e3ZbHZ7ezuHw3nx4kVvby+8ceazAgPCiM8CCtkZTwK9vb15eXnCA5tjl6RuIbgwyg5xdrOdrTBxIkJIUlLS19f32rVr8JN3PAsQpI0ngUuXLunr678ndD78k0Kh0Gg0ISEhYWFhcXFxBQUFCwuL8PDw2trau3fv4ukg2CYKARBGRIkE+MEHBDo6Ovz9/RFCM7S1j5UmE1YYlYa7xPs5mulriQ5smamgoJCenv7rr7/CBDQ+KISQhaEINDQ0yMj0zy3APlQqVUJCQkpKSklJSU1NTUdHx8jIyMLCwtnZOTg4uLi4uLa2tq2t7eXLl0MZhPP8SgCEEb9GFvI1DgQuX748a9YshNAaD7ev96YTUxgVh7uGeS6ePlUdW3dOTk7uyJEjHA5nHHhBkkBgDAlcv349JCTE3t7e29vbx8cnICAgMTExLS2tsrKyoaHhypUrP//8M1SEMQwIcZMCYUTc2IBn5CLQ19d34MAB7Mdo2pbQM+WZBBRGRWFuzovn/fGbGVlaWj579oxcnMFbIPDJBLq6umCI9CfTE5wbQRgJTqwhp/gS4HA4fn5+CCEdbe2DefFnK7IIJYxKN61MCHAyMTbCZp9NmDBh+/bt3d3d+EIB60AACAABshEAYUS2iIG/RCVw48YNefn+NaO9XJaf2JNOHGH0eZRHdqibt8N8eTk5bPaZjY1NbW0tDJ4galECv4AAEBhPAiCMxpM+pM1PBJKTkxFCcrKyyZHrz1ZkEUQYFW/2DF6x0FhXS1REGCGkqKgYFRXV1tYGe3rzU9mDvAABIMBDAiCMeAgTTAkugRcvXqip9W+8aj7L6GBBUnNlNhGEUeZGT3trs4my/52JM3/+/EOHDsEmr4JbTCHnQAAIjIAACKMRQIJLgMBfESgsLEQISUlKhqx1/6Yie9yF0d4t3uG+KyeypIWYzH7HpKS2bt167949WKboryIJ3wMBICDoBEAYCXoJgPyPnkBnZ6eUlBRCSHe65n52UvP+nPEVRkmhq2ZM1+RuX2BmZnbx4kV4dzb6QIMFIAAEBIEACCNBiDLkEUcCfX19WVlZ2KDmEF+v5gO7xksYlW/33RWxytPeVmbCBIQQhUJRUVGJj4/v6OjAMf9gGggAASDAXwRAGPFXPCE3Y06gvb1dV1cXITRFQ+1AftK4CKOKeP/czWt8HOdrTp2MrVGkrq7u4uJy8eLFMecBCQIBIAAEyE0AhBG54wfejy+B58+fx8bGioqKIoRC/decq8odY2G0PzGQHeXrYz/PzNgQk0RSUlJLliyprq7u7OwcXziQOhAAAkCAjARAGJExauAzjgRujvhz586dxsZGHR0dhJChvn5jWcZYCqOqpA2Fsf6rls/X1ZrMHBhhTafTra2ti4qK7t69C4OscSwiYBoIAAG+JkBQYcTdsgAOgABxCEz588ds4EOn0xFCeTtjz1XljZkw2pcQtHaFvaKcjIhw/+pE2AJFJSUl9+/fh8Ws+brFhswBASCAOwEQRsR57IInJCNAo9EYDAZCyMVxedOBvLERRhU7QzYHrhYRYjIGBBlCSEZGJj4+nsPh9Pb24t5gQAJAAAgAAX4nAMKIZA9jcHccCbi/87GyshIREUEIKSsplWfHfVvNxk8Y1aaHHUgOZcf4+Xs4ycvJYgSYTKa6uvrmzZvv3bvH780U5A8IAAEgMHYECCqMxg4ApAQEPp5AV1eXu7s7QkhcTGyj/+pv9ufiJIxqMyO+SApNDl3l7mCnpKSISSJxcXEdHZ2goKArV658vO9wBxAAAkAACAxHAITRcHTgOyDwIYGenp6kpCRs4SKXZYvqStLO1+TzVhg17IqqztiUF7thg/vS+Zam0tLSmCSSlZW1s7NLS0trbW390DE4AwSAABAAAqMnAMJo9AzBgmARKC8vFxMTQwhpTtHYmx1/riaft8Job8qm2OA1C+eYak3VwN7WIYTk5eUDAgJqampu3boFY4kEq8BBboEAEBhbAiCMxpY3pEZyAmfPntXT00MIsSZIJ0aGnK1inz9YwBNhdHjXlowtIatdlk1VU5GXk8UmuyGEtLW1Y2Jivv/++0ePHsG2HiQvPuA+EAACJCAAwogEQQIXCUKgtbXV3Nwc24MsJmzDuZrCflU0OmH0ZdH2oqTNvl4rp6irCQkx6TQa9taMwWBYW1s3Njb+/vvvPT09BCEAbgABIAAE+J4ACCO+DzFkkAcE+vr6bt265ebmhhCiUmleK93OVhe0HCr6aGFUtvP47h0NhfE12TFp0UH+3h5GBgaYEkIICQkJycjITJkyJTExsa2tjQd+gwkgAASAABD4SAIgjD4SGFwukAQePHiwfv16BoNBpzNMZho21RReOFw8cmH09Z7UhuKkql3bixPDtgR5e7rY68zQxtZAQgjR6XRlZWVjY+OQkJCGhoauri6BZAyZBgJAAAgQggAII0KEAZwgMoHHjx8HBAQwGAwmk2kz16KqIOVibfFIhNHR3alfZG/PjQv7zMfNZemCOeamqioq3P4hOp2upaXl4OAQFRVVV1d3//592MeDyMUAfAMCQEBACIAwEpBAQzY/kUBHR4efnx/Wu2OgO2NvTuL5Q8VDCaPTFTmHilLKMranx25csWSe3dzZpjMNpk2dwp1chk3yNzY2Xrt2bU5OzokTJ+7cuQNDiD4xNnAbEAACQAAHAiCMcIAKJvmFwPXr1x0dHWkDA6K1NafmJ8d+e7j4Ym0JJoy+PVh4bF9OBTuZnbx1a3jwOq8VelqTp01WU1NVnigvh43R5vYPKSkpOTk5ZWRknD59+saNG48fP4b+IX4pJpAPIAAE+IoACCO+CidkhocELl++bGlpSaVS+5cRkpNNj4/Zk5uSkbgleVuUzypPp+VLxUVFREWERYSFhIWEmP3Dj/p3k333w2Kx7O3t2Wx2e3s7h8N58eJFb2/vmzdveOgkmAICQAAIAAHeEgBhxFueYI1PCFy6dElfX/9dlTPoMYVCodFoQkJCwsLC4uLiCgoKFhYW4eHhtbW1d+/e5RMWkA0gAASAgCARAGEkSNGGvI6YQENDg4yMDFcMUalUCQkJKSkpJSUlNTU1HR0dIyMjCwsLZ2fn4ODg4uLi2tratra2ly9fjjgFuBAIAAEgAASISACEERGjAj6NO4Hr16+HhITY29t7e3v7+PgEBAQkJiampaVVVlY2NDRcuXLl559/5nA44+4nOAAEgAAQAAK8JQDCiLc8wRr/EOjq6oIh0vwTTsgJEAACQGBkBEAYjYwTXAUEgAAQAAJAAAgIAAEQRgIQZMgiEAACQAAIAAEgMDICIIxGxgmuAgJAAAgAASAABASAAAgjAQgyZBEIAAEgAASAABAYGQEQRiPjBFcBASAABIAAEAACAkAAhJEABBmyCASAABAAAkAACIyMAAijkXGCq4AAEAACQAAIAAEBIADCSACCDFkEAkAACAABIAAERkYAhNHIOMFVQAAIAAEgAASAgAAQAGEkAEGGLAIBIAAEgAAQAAIjIwDCaGSc4CogAASAABAAAkBAAAiAMBKAIEMWgQAQAAJAAAgAgZERAGE0Mk5wFRAAAkAACAABICAABEAYCUCQIYtAAAgAASAABIDAyAiAMBoZJ7gKCAABIAAEgAAQEAACIIwEIMiQRSAABIAAEAACQGBkBEAYjYwTXAUEgAAQAAJAAAgIAAEQRgIQZMgiEAACQAAIAAEgMDICIIxGxgmuAgJAAAgAASAABASAAAgjAQgyZBEIAAEgAASAABAYGYH/BVdjfOEi2x53AAAAAElFTkSuQmCC)"
      ],
      "metadata": {
        "id": "ZMW4G8dI5pHT"
      }
    },
    {
      "cell_type": "markdown",
      "source": [
        "Same inputs are going into three NOR gates As well as A and B being both the imputs in like two of them, All of which are NORed into a cumulative NOR"
      ],
      "metadata": {
        "id": "PXWP3k6z6cQ1"
      }
    },
    {
      "cell_type": "markdown",
      "source": [
        "Code wise thats an initial two nor gates whose inputs are [[0,0],[1,1]] --> Output would be [1,0] --> resize maybe?\n",
        "The third gets the normal input\n",
        "Fourth one is the NORed combination of the NORed A and NORed B so [[1,0],[1,0]] which is then NORed with the third o/p so the fifth nor gets [[0,0],[Normal AB NOR table]] But book has done it in three neurons. This approach does not feel like a three neuron one, even if I reuse the last ones.  "
      ],
      "metadata": {
        "id": "7nhZsFEf7B1z"
      }
    },
    {
      "cell_type": "markdown",
      "source": [
        "##Identity (taken from Sambit da's repo, converted to TF)"
      ],
      "metadata": {
        "id": "5sSgeXD-l2OH"
      }
    },
    {
      "cell_type": "code",
      "source": [
        "import tensorflow as tf\n",
        "\n",
        "class IDENTITY(tf.keras.Model):\n",
        "    def __init__(self):\n",
        "        super(IDENTITY, self).__init__()\n",
        "        self.operation = \"A = A\"\n",
        "\n",
        "    def call(self, inputs):\n",
        "        a = inputs\n",
        "        inputs = tf.concat([a, a], axis=1)\n",
        "        # Sum across columns\n",
        "        column_sum = tf.reduce_sum(inputs, axis=1, keepdims=True)\n",
        "        output = tf.cast(column_sum >= 2, dtype=tf.int32)\n",
        "        return output\n",
        "\n",
        "# Instantiate the model\n",
        "identity = IDENTITY()\n"
      ],
      "metadata": {
        "id": "QQtOCoJ56JBC"
      },
      "execution_count": null,
      "outputs": []
    },
    {
      "cell_type": "code",
      "source": [
        "batch = tf.constant([[0], [1]])"
      ],
      "metadata": {
        "id": "e0_Ko8MC5ot5"
      },
      "execution_count": null,
      "outputs": []
    },
    {
      "cell_type": "code",
      "source": [
        "outputs = identity(batch)\n",
        "print(outputs)"
      ],
      "metadata": {
        "id": "FfmzrguS4lpr",
        "colab": {
          "base_uri": "https://localhost:8080/"
        },
        "outputId": "a4e5ddd1-8ae3-46a3-c35a-ac94eef65c7f"
      },
      "execution_count": null,
      "outputs": [
        {
          "output_type": "stream",
          "name": "stdout",
          "text": [
            "tf.Tensor(\n",
            "[[0]\n",
            " [1]], shape=(2, 1), dtype=int32)\n"
          ]
        }
      ]
    },
    {
      "cell_type": "markdown",
      "source": [
        "##AND"
      ],
      "metadata": {
        "id": "_KaN5G7omLkd"
      }
    },
    {
      "cell_type": "code",
      "source": [
        "import tensorflow as tf\n",
        "\n",
        "class AND(tf.keras.Model):\n",
        "    def __init__(self):\n",
        "        super(AND, self).__init__()\n",
        "        self.operation = \"C = A AND B\"\n",
        "\n",
        "    def call(self, inputs):\n",
        "        a = inputs['a']\n",
        "        b = inputs['b']\n",
        "        inputs = tf.concat([a, b], axis=1)\n",
        "        column_sum = tf.reduce_sum(inputs, axis=1, keepdims=True)\n",
        "        output = tf.cast(column_sum == 2, dtype=tf.int32) ##I'm checking if column sum is 2 and only 2, then assign boolean TRUE\n",
        "        return output"
      ],
      "metadata": {
        "id": "V950x_iOmKwQ"
      },
      "execution_count": null,
      "outputs": []
    },
    {
      "cell_type": "code",
      "source": [
        "logical_and = AND()"
      ],
      "metadata": {
        "id": "Y40MeDZtoWtv"
      },
      "execution_count": null,
      "outputs": []
    },
    {
      "cell_type": "code",
      "source": [
        "val = {'a': tf.constant([[0], [0], [1], [1]]), 'b': tf.constant([[0], [1], [0], [1]])}"
      ],
      "metadata": {
        "id": "6llGcsC_oZFl"
      },
      "execution_count": null,
      "outputs": []
    },
    {
      "cell_type": "code",
      "source": [
        "output1 = logical_and(val)\n",
        "print(output1)\n"
      ],
      "metadata": {
        "colab": {
          "base_uri": "https://localhost:8080/"
        },
        "id": "FuHfz3MnoZZI",
        "outputId": "50221861-384a-4d20-eb74-2a593c58b358"
      },
      "execution_count": null,
      "outputs": [
        {
          "output_type": "stream",
          "name": "stdout",
          "text": [
            "tf.Tensor(\n",
            "[[0]\n",
            " [0]\n",
            " [0]\n",
            " [1]], shape=(4, 1), dtype=int32)\n"
          ]
        }
      ]
    },
    {
      "cell_type": "markdown",
      "source": [
        "##OR"
      ],
      "metadata": {
        "id": "XJe48UOuF5du"
      }
    },
    {
      "cell_type": "code",
      "source": [
        "import tensorflow as tf\n",
        "\n",
        "class OR(tf.keras.Model):\n",
        "    def __init__(self):\n",
        "        super(OR, self).__init__()\n",
        "        self.operation = \"C = A OR B\"\n",
        "\n",
        "\n",
        "    def call(self, inputs):\n",
        "        a = inputs['a']\n",
        "        b = inputs['b']\n",
        "        inputs = tf.concat([a, b], axis=1)\n",
        "        column_sum = tf.reduce_sum(inputs, axis=1, keepdims=True)\n",
        "        output = tf.cast(column_sum>0, dtype=tf.int32) ## How do I do XOR now\n",
        "        return output"
      ],
      "metadata": {
        "id": "jSLGO-EOF8bk"
      },
      "execution_count": 23,
      "outputs": []
    },
    {
      "cell_type": "code",
      "source": [
        "logical_or = OR()"
      ],
      "metadata": {
        "id": "0xECSktjGMHm"
      },
      "execution_count": 24,
      "outputs": []
    },
    {
      "cell_type": "code",
      "source": [
        "val = {'a': tf.constant([[0], [0], [1], [1]]), 'b': tf.constant([[0], [1], [0], [1]])}"
      ],
      "metadata": {
        "id": "4wXFUeF3GPlF"
      },
      "execution_count": 25,
      "outputs": []
    },
    {
      "cell_type": "code",
      "source": [
        "output1 = logical_or(val)\n",
        "print(output1)"
      ],
      "metadata": {
        "colab": {
          "base_uri": "https://localhost:8080/"
        },
        "id": "eoDOUL0_Ga7d",
        "outputId": "dae60210-6498-4d9a-c5dd-19e60e9b62f6"
      },
      "execution_count": 26,
      "outputs": [
        {
          "output_type": "stream",
          "name": "stdout",
          "text": [
            "tf.Tensor(\n",
            "[[0]\n",
            " [1]\n",
            " [1]\n",
            " [1]], shape=(4, 1), dtype=int32)\n"
          ]
        }
      ]
    },
    {
      "cell_type": "markdown",
      "source": [
        "##XOR"
      ],
      "metadata": {
        "id": "_W0URWlbasoR"
      }
    },
    {
      "cell_type": "code",
      "source": [
        "import tensorflow as tf"
      ],
      "metadata": {
        "id": "lbEJzTwzZ1GC"
      },
      "execution_count": 63,
      "outputs": []
    },
    {
      "cell_type": "code",
      "source": [
        "class XOR(tf.keras.Model):\n",
        "    def __init__(self):\n",
        "        super(XOR, self).__init__()\n",
        "\n",
        "        self.layer0_w = tf.Variable([[1., 1.], [1., 1.]], dtype=tf.float32)\n",
        "        self.layer0_b = tf.Variable([-1.5, -0.5], dtype=tf.float32)\n",
        "        self.layer1_w = tf.Variable([[-1.], [1.]], dtype=tf.float32)\n",
        "        self.layer1_b = tf.Variable([-0.5], dtype=tf.float32)\n",
        "\n",
        "    def heavyside(self, x):\n",
        "        return tf.cast(x >= 0, tf.float32)\n",
        "\n",
        "    def call(self, inputs):\n",
        "        a = tf.cast(inputs['a'], tf.float32)\n",
        "        b = tf.cast(inputs['b'], tf.float32)\n",
        "        inputs = tf.concat([a, b], axis=1)\n",
        "\n",
        "        # first layer\n",
        "        layer1_out = tf.matmul(inputs, self.layer0_w) + self.layer0_b\n",
        "        layer1_act = self.heavyside(layer1_out)\n",
        "\n",
        "        #  second layer\n",
        "        layer2_out = tf.matmul(layer1_act, self.layer1_w) + self.layer1_b\n",
        "        return self.heavyside(layer2_out)"
      ],
      "metadata": {
        "id": "e2qTPwUSaqVC"
      },
      "execution_count": 72,
      "outputs": []
    },
    {
      "cell_type": "code",
      "source": [
        "model = XOR()"
      ],
      "metadata": {
        "id": "G-M6QgtKbi6z"
      },
      "execution_count": 73,
      "outputs": []
    },
    {
      "cell_type": "code",
      "source": [
        "inputs = {\n",
        "    'a': tf.constant([[0], [0], [1], [1]], dtype=tf.float32),\n",
        "    'b': tf.constant([[0], [1], [0], [1]], dtype=tf.float32)}"
      ],
      "metadata": {
        "id": "nRDfzbtDhfNB"
      },
      "execution_count": 74,
      "outputs": []
    },
    {
      "cell_type": "code",
      "source": [
        "output = model(inputs)\n",
        "print(\"XOR Output:\\n\", output)"
      ],
      "metadata": {
        "colab": {
          "base_uri": "https://localhost:8080/"
        },
        "id": "SCQ7EsnMhl_Q",
        "outputId": "c9c0541b-f498-4983-8b92-f6be211a3fc1"
      },
      "execution_count": 75,
      "outputs": [
        {
          "output_type": "stream",
          "name": "stdout",
          "text": [
            "XOR Output:\n",
            " tf.Tensor(\n",
            "[[0.]\n",
            " [1.]\n",
            " [1.]\n",
            " [0.]], shape=(4, 1), dtype=float32)\n"
          ]
        }
      ]
    }
  ]
}